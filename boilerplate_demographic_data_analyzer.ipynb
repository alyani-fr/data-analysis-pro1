{
  "nbformat": 4,
  "nbformat_minor": 0,
  "metadata": {
    "colab": {
      "provenance": [],
      "authorship_tag": "ABX9TyPGpJPcx4hIhJHyAZhEs+y+",
      "include_colab_link": true
    },
    "kernelspec": {
      "name": "python3",
      "display_name": "Python 3"
    },
    "language_info": {
      "name": "python"
    }
  },
  "cells": [
    {
      "cell_type": "markdown",
      "metadata": {
        "id": "view-in-github",
        "colab_type": "text"
      },
      "source": [
        "<a href=\"https://colab.research.google.com/github/alyani-fr/demographic-data-analyzer/blob/main/boilerplate_demographic_data_analyzer.ipynb\" target=\"_parent\"><img src=\"https://colab.research.google.com/assets/colab-badge.svg\" alt=\"Open In Colab\"/></a>"
      ]
    },
    {
      "cell_type": "code",
      "execution_count": 1,
      "metadata": {
        "id": "AgpHgcE3CBEI"
      },
      "outputs": [],
      "source": [
        "import pandas as pd\n",
        "import numpy as np"
      ]
    },
    {
      "cell_type": "code",
      "source": [
        "df = pd.read_csv('adult.data.csv')"
      ],
      "metadata": {
        "id": "su9qR9thCTzv"
      },
      "execution_count": 2,
      "outputs": []
    },
    {
      "cell_type": "code",
      "source": [
        "df.head()"
      ],
      "metadata": {
        "colab": {
          "base_uri": "https://localhost:8080/",
          "height": 337
        },
        "id": "tCtA5t9yChFa",
        "outputId": "e1b1b008-5a3a-48da-8b2e-a47aa2628344"
      },
      "execution_count": 3,
      "outputs": [
        {
          "output_type": "execute_result",
          "data": {
            "text/plain": [
              "   age         workclass  fnlwgt  education  education-num  \\\n",
              "0   39         State-gov   77516  Bachelors             13   \n",
              "1   50  Self-emp-not-inc   83311  Bachelors             13   \n",
              "2   38           Private  215646    HS-grad              9   \n",
              "3   53           Private  234721       11th              7   \n",
              "4   28           Private  338409  Bachelors             13   \n",
              "\n",
              "       marital-status         occupation   relationship   race     sex  \\\n",
              "0       Never-married       Adm-clerical  Not-in-family  White    Male   \n",
              "1  Married-civ-spouse    Exec-managerial        Husband  White    Male   \n",
              "2            Divorced  Handlers-cleaners  Not-in-family  White    Male   \n",
              "3  Married-civ-spouse  Handlers-cleaners        Husband  Black    Male   \n",
              "4  Married-civ-spouse     Prof-specialty           Wife  Black  Female   \n",
              "\n",
              "   capital-gain  capital-loss  hours-per-week native-country salary  \n",
              "0          2174             0              40  United-States  <=50K  \n",
              "1             0             0              13  United-States  <=50K  \n",
              "2             0             0              40  United-States  <=50K  \n",
              "3             0             0              40  United-States  <=50K  \n",
              "4             0             0              40           Cuba  <=50K  "
            ],
            "text/html": [
              "\n",
              "  <div id=\"df-33264b36-0edb-47d4-8fcf-2b3d5592bc35\">\n",
              "    <div class=\"colab-df-container\">\n",
              "      <div>\n",
              "<style scoped>\n",
              "    .dataframe tbody tr th:only-of-type {\n",
              "        vertical-align: middle;\n",
              "    }\n",
              "\n",
              "    .dataframe tbody tr th {\n",
              "        vertical-align: top;\n",
              "    }\n",
              "\n",
              "    .dataframe thead th {\n",
              "        text-align: right;\n",
              "    }\n",
              "</style>\n",
              "<table border=\"1\" class=\"dataframe\">\n",
              "  <thead>\n",
              "    <tr style=\"text-align: right;\">\n",
              "      <th></th>\n",
              "      <th>age</th>\n",
              "      <th>workclass</th>\n",
              "      <th>fnlwgt</th>\n",
              "      <th>education</th>\n",
              "      <th>education-num</th>\n",
              "      <th>marital-status</th>\n",
              "      <th>occupation</th>\n",
              "      <th>relationship</th>\n",
              "      <th>race</th>\n",
              "      <th>sex</th>\n",
              "      <th>capital-gain</th>\n",
              "      <th>capital-loss</th>\n",
              "      <th>hours-per-week</th>\n",
              "      <th>native-country</th>\n",
              "      <th>salary</th>\n",
              "    </tr>\n",
              "  </thead>\n",
              "  <tbody>\n",
              "    <tr>\n",
              "      <th>0</th>\n",
              "      <td>39</td>\n",
              "      <td>State-gov</td>\n",
              "      <td>77516</td>\n",
              "      <td>Bachelors</td>\n",
              "      <td>13</td>\n",
              "      <td>Never-married</td>\n",
              "      <td>Adm-clerical</td>\n",
              "      <td>Not-in-family</td>\n",
              "      <td>White</td>\n",
              "      <td>Male</td>\n",
              "      <td>2174</td>\n",
              "      <td>0</td>\n",
              "      <td>40</td>\n",
              "      <td>United-States</td>\n",
              "      <td>&lt;=50K</td>\n",
              "    </tr>\n",
              "    <tr>\n",
              "      <th>1</th>\n",
              "      <td>50</td>\n",
              "      <td>Self-emp-not-inc</td>\n",
              "      <td>83311</td>\n",
              "      <td>Bachelors</td>\n",
              "      <td>13</td>\n",
              "      <td>Married-civ-spouse</td>\n",
              "      <td>Exec-managerial</td>\n",
              "      <td>Husband</td>\n",
              "      <td>White</td>\n",
              "      <td>Male</td>\n",
              "      <td>0</td>\n",
              "      <td>0</td>\n",
              "      <td>13</td>\n",
              "      <td>United-States</td>\n",
              "      <td>&lt;=50K</td>\n",
              "    </tr>\n",
              "    <tr>\n",
              "      <th>2</th>\n",
              "      <td>38</td>\n",
              "      <td>Private</td>\n",
              "      <td>215646</td>\n",
              "      <td>HS-grad</td>\n",
              "      <td>9</td>\n",
              "      <td>Divorced</td>\n",
              "      <td>Handlers-cleaners</td>\n",
              "      <td>Not-in-family</td>\n",
              "      <td>White</td>\n",
              "      <td>Male</td>\n",
              "      <td>0</td>\n",
              "      <td>0</td>\n",
              "      <td>40</td>\n",
              "      <td>United-States</td>\n",
              "      <td>&lt;=50K</td>\n",
              "    </tr>\n",
              "    <tr>\n",
              "      <th>3</th>\n",
              "      <td>53</td>\n",
              "      <td>Private</td>\n",
              "      <td>234721</td>\n",
              "      <td>11th</td>\n",
              "      <td>7</td>\n",
              "      <td>Married-civ-spouse</td>\n",
              "      <td>Handlers-cleaners</td>\n",
              "      <td>Husband</td>\n",
              "      <td>Black</td>\n",
              "      <td>Male</td>\n",
              "      <td>0</td>\n",
              "      <td>0</td>\n",
              "      <td>40</td>\n",
              "      <td>United-States</td>\n",
              "      <td>&lt;=50K</td>\n",
              "    </tr>\n",
              "    <tr>\n",
              "      <th>4</th>\n",
              "      <td>28</td>\n",
              "      <td>Private</td>\n",
              "      <td>338409</td>\n",
              "      <td>Bachelors</td>\n",
              "      <td>13</td>\n",
              "      <td>Married-civ-spouse</td>\n",
              "      <td>Prof-specialty</td>\n",
              "      <td>Wife</td>\n",
              "      <td>Black</td>\n",
              "      <td>Female</td>\n",
              "      <td>0</td>\n",
              "      <td>0</td>\n",
              "      <td>40</td>\n",
              "      <td>Cuba</td>\n",
              "      <td>&lt;=50K</td>\n",
              "    </tr>\n",
              "  </tbody>\n",
              "</table>\n",
              "</div>\n",
              "      <button class=\"colab-df-convert\" onclick=\"convertToInteractive('df-33264b36-0edb-47d4-8fcf-2b3d5592bc35')\"\n",
              "              title=\"Convert this dataframe to an interactive table.\"\n",
              "              style=\"display:none;\">\n",
              "        \n",
              "  <svg xmlns=\"http://www.w3.org/2000/svg\" height=\"24px\"viewBox=\"0 0 24 24\"\n",
              "       width=\"24px\">\n",
              "    <path d=\"M0 0h24v24H0V0z\" fill=\"none\"/>\n",
              "    <path d=\"M18.56 5.44l.94 2.06.94-2.06 2.06-.94-2.06-.94-.94-2.06-.94 2.06-2.06.94zm-11 1L8.5 8.5l.94-2.06 2.06-.94-2.06-.94L8.5 2.5l-.94 2.06-2.06.94zm10 10l.94 2.06.94-2.06 2.06-.94-2.06-.94-.94-2.06-.94 2.06-2.06.94z\"/><path d=\"M17.41 7.96l-1.37-1.37c-.4-.4-.92-.59-1.43-.59-.52 0-1.04.2-1.43.59L10.3 9.45l-7.72 7.72c-.78.78-.78 2.05 0 2.83L4 21.41c.39.39.9.59 1.41.59.51 0 1.02-.2 1.41-.59l7.78-7.78 2.81-2.81c.8-.78.8-2.07 0-2.86zM5.41 20L4 18.59l7.72-7.72 1.47 1.35L5.41 20z\"/>\n",
              "  </svg>\n",
              "      </button>\n",
              "      \n",
              "  <style>\n",
              "    .colab-df-container {\n",
              "      display:flex;\n",
              "      flex-wrap:wrap;\n",
              "      gap: 12px;\n",
              "    }\n",
              "\n",
              "    .colab-df-convert {\n",
              "      background-color: #E8F0FE;\n",
              "      border: none;\n",
              "      border-radius: 50%;\n",
              "      cursor: pointer;\n",
              "      display: none;\n",
              "      fill: #1967D2;\n",
              "      height: 32px;\n",
              "      padding: 0 0 0 0;\n",
              "      width: 32px;\n",
              "    }\n",
              "\n",
              "    .colab-df-convert:hover {\n",
              "      background-color: #E2EBFA;\n",
              "      box-shadow: 0px 1px 2px rgba(60, 64, 67, 0.3), 0px 1px 3px 1px rgba(60, 64, 67, 0.15);\n",
              "      fill: #174EA6;\n",
              "    }\n",
              "\n",
              "    [theme=dark] .colab-df-convert {\n",
              "      background-color: #3B4455;\n",
              "      fill: #D2E3FC;\n",
              "    }\n",
              "\n",
              "    [theme=dark] .colab-df-convert:hover {\n",
              "      background-color: #434B5C;\n",
              "      box-shadow: 0px 1px 3px 1px rgba(0, 0, 0, 0.15);\n",
              "      filter: drop-shadow(0px 1px 2px rgba(0, 0, 0, 0.3));\n",
              "      fill: #FFFFFF;\n",
              "    }\n",
              "  </style>\n",
              "\n",
              "      <script>\n",
              "        const buttonEl =\n",
              "          document.querySelector('#df-33264b36-0edb-47d4-8fcf-2b3d5592bc35 button.colab-df-convert');\n",
              "        buttonEl.style.display =\n",
              "          google.colab.kernel.accessAllowed ? 'block' : 'none';\n",
              "\n",
              "        async function convertToInteractive(key) {\n",
              "          const element = document.querySelector('#df-33264b36-0edb-47d4-8fcf-2b3d5592bc35');\n",
              "          const dataTable =\n",
              "            await google.colab.kernel.invokeFunction('convertToInteractive',\n",
              "                                                     [key], {});\n",
              "          if (!dataTable) return;\n",
              "\n",
              "          const docLinkHtml = 'Like what you see? Visit the ' +\n",
              "            '<a target=\"_blank\" href=https://colab.research.google.com/notebooks/data_table.ipynb>data table notebook</a>'\n",
              "            + ' to learn more about interactive tables.';\n",
              "          element.innerHTML = '';\n",
              "          dataTable['output_type'] = 'display_data';\n",
              "          await google.colab.output.renderOutput(dataTable, element);\n",
              "          const docLink = document.createElement('div');\n",
              "          docLink.innerHTML = docLinkHtml;\n",
              "          element.appendChild(docLink);\n",
              "        }\n",
              "      </script>\n",
              "    </div>\n",
              "  </div>\n",
              "  "
            ]
          },
          "metadata": {},
          "execution_count": 3
        }
      ]
    },
    {
      "cell_type": "code",
      "source": [
        "df.info()"
      ],
      "metadata": {
        "colab": {
          "base_uri": "https://localhost:8080/"
        },
        "id": "dSoKJ5G8TaoF",
        "outputId": "523572eb-b991-4b1a-ea8d-99fd8f291ce6"
      },
      "execution_count": 4,
      "outputs": [
        {
          "output_type": "stream",
          "name": "stdout",
          "text": [
            "<class 'pandas.core.frame.DataFrame'>\n",
            "RangeIndex: 32561 entries, 0 to 32560\n",
            "Data columns (total 15 columns):\n",
            " #   Column          Non-Null Count  Dtype \n",
            "---  ------          --------------  ----- \n",
            " 0   age             32561 non-null  int64 \n",
            " 1   workclass       32561 non-null  object\n",
            " 2   fnlwgt          32561 non-null  int64 \n",
            " 3   education       32561 non-null  object\n",
            " 4   education-num   32561 non-null  int64 \n",
            " 5   marital-status  32561 non-null  object\n",
            " 6   occupation      32561 non-null  object\n",
            " 7   relationship    32561 non-null  object\n",
            " 8   race            32561 non-null  object\n",
            " 9   sex             32561 non-null  object\n",
            " 10  capital-gain    32561 non-null  int64 \n",
            " 11  capital-loss    32561 non-null  int64 \n",
            " 12  hours-per-week  32561 non-null  int64 \n",
            " 13  native-country  32561 non-null  object\n",
            " 14  salary          32561 non-null  object\n",
            "dtypes: int64(6), object(9)\n",
            "memory usage: 3.7+ MB\n"
          ]
        }
      ]
    },
    {
      "cell_type": "markdown",
      "source": [
        "- **How many of each race are represented in this dataset? This should be a Pandas series with race names as the index labels.**"
      ],
      "metadata": {
        "id": "zbpOUOH8Kk07"
      }
    },
    {
      "cell_type": "code",
      "source": [
        "pd.read_csv('adult.data.csv', usecols=['race'])"
      ],
      "metadata": {
        "colab": {
          "base_uri": "https://localhost:8080/",
          "height": 424
        },
        "id": "lMk1BHzSCsob",
        "outputId": "57323493-b3f3-4237-8774-6893acb1841b"
      },
      "execution_count": 5,
      "outputs": [
        {
          "output_type": "execute_result",
          "data": {
            "text/plain": [
              "        race\n",
              "0      White\n",
              "1      White\n",
              "2      White\n",
              "3      Black\n",
              "4      Black\n",
              "...      ...\n",
              "32556  White\n",
              "32557  White\n",
              "32558  White\n",
              "32559  White\n",
              "32560  White\n",
              "\n",
              "[32561 rows x 1 columns]"
            ],
            "text/html": [
              "\n",
              "  <div id=\"df-c9694913-1ae3-4d54-b02e-a4501cef5571\">\n",
              "    <div class=\"colab-df-container\">\n",
              "      <div>\n",
              "<style scoped>\n",
              "    .dataframe tbody tr th:only-of-type {\n",
              "        vertical-align: middle;\n",
              "    }\n",
              "\n",
              "    .dataframe tbody tr th {\n",
              "        vertical-align: top;\n",
              "    }\n",
              "\n",
              "    .dataframe thead th {\n",
              "        text-align: right;\n",
              "    }\n",
              "</style>\n",
              "<table border=\"1\" class=\"dataframe\">\n",
              "  <thead>\n",
              "    <tr style=\"text-align: right;\">\n",
              "      <th></th>\n",
              "      <th>race</th>\n",
              "    </tr>\n",
              "  </thead>\n",
              "  <tbody>\n",
              "    <tr>\n",
              "      <th>0</th>\n",
              "      <td>White</td>\n",
              "    </tr>\n",
              "    <tr>\n",
              "      <th>1</th>\n",
              "      <td>White</td>\n",
              "    </tr>\n",
              "    <tr>\n",
              "      <th>2</th>\n",
              "      <td>White</td>\n",
              "    </tr>\n",
              "    <tr>\n",
              "      <th>3</th>\n",
              "      <td>Black</td>\n",
              "    </tr>\n",
              "    <tr>\n",
              "      <th>4</th>\n",
              "      <td>Black</td>\n",
              "    </tr>\n",
              "    <tr>\n",
              "      <th>...</th>\n",
              "      <td>...</td>\n",
              "    </tr>\n",
              "    <tr>\n",
              "      <th>32556</th>\n",
              "      <td>White</td>\n",
              "    </tr>\n",
              "    <tr>\n",
              "      <th>32557</th>\n",
              "      <td>White</td>\n",
              "    </tr>\n",
              "    <tr>\n",
              "      <th>32558</th>\n",
              "      <td>White</td>\n",
              "    </tr>\n",
              "    <tr>\n",
              "      <th>32559</th>\n",
              "      <td>White</td>\n",
              "    </tr>\n",
              "    <tr>\n",
              "      <th>32560</th>\n",
              "      <td>White</td>\n",
              "    </tr>\n",
              "  </tbody>\n",
              "</table>\n",
              "<p>32561 rows × 1 columns</p>\n",
              "</div>\n",
              "      <button class=\"colab-df-convert\" onclick=\"convertToInteractive('df-c9694913-1ae3-4d54-b02e-a4501cef5571')\"\n",
              "              title=\"Convert this dataframe to an interactive table.\"\n",
              "              style=\"display:none;\">\n",
              "        \n",
              "  <svg xmlns=\"http://www.w3.org/2000/svg\" height=\"24px\"viewBox=\"0 0 24 24\"\n",
              "       width=\"24px\">\n",
              "    <path d=\"M0 0h24v24H0V0z\" fill=\"none\"/>\n",
              "    <path d=\"M18.56 5.44l.94 2.06.94-2.06 2.06-.94-2.06-.94-.94-2.06-.94 2.06-2.06.94zm-11 1L8.5 8.5l.94-2.06 2.06-.94-2.06-.94L8.5 2.5l-.94 2.06-2.06.94zm10 10l.94 2.06.94-2.06 2.06-.94-2.06-.94-.94-2.06-.94 2.06-2.06.94z\"/><path d=\"M17.41 7.96l-1.37-1.37c-.4-.4-.92-.59-1.43-.59-.52 0-1.04.2-1.43.59L10.3 9.45l-7.72 7.72c-.78.78-.78 2.05 0 2.83L4 21.41c.39.39.9.59 1.41.59.51 0 1.02-.2 1.41-.59l7.78-7.78 2.81-2.81c.8-.78.8-2.07 0-2.86zM5.41 20L4 18.59l7.72-7.72 1.47 1.35L5.41 20z\"/>\n",
              "  </svg>\n",
              "      </button>\n",
              "      \n",
              "  <style>\n",
              "    .colab-df-container {\n",
              "      display:flex;\n",
              "      flex-wrap:wrap;\n",
              "      gap: 12px;\n",
              "    }\n",
              "\n",
              "    .colab-df-convert {\n",
              "      background-color: #E8F0FE;\n",
              "      border: none;\n",
              "      border-radius: 50%;\n",
              "      cursor: pointer;\n",
              "      display: none;\n",
              "      fill: #1967D2;\n",
              "      height: 32px;\n",
              "      padding: 0 0 0 0;\n",
              "      width: 32px;\n",
              "    }\n",
              "\n",
              "    .colab-df-convert:hover {\n",
              "      background-color: #E2EBFA;\n",
              "      box-shadow: 0px 1px 2px rgba(60, 64, 67, 0.3), 0px 1px 3px 1px rgba(60, 64, 67, 0.15);\n",
              "      fill: #174EA6;\n",
              "    }\n",
              "\n",
              "    [theme=dark] .colab-df-convert {\n",
              "      background-color: #3B4455;\n",
              "      fill: #D2E3FC;\n",
              "    }\n",
              "\n",
              "    [theme=dark] .colab-df-convert:hover {\n",
              "      background-color: #434B5C;\n",
              "      box-shadow: 0px 1px 3px 1px rgba(0, 0, 0, 0.15);\n",
              "      filter: drop-shadow(0px 1px 2px rgba(0, 0, 0, 0.3));\n",
              "      fill: #FFFFFF;\n",
              "    }\n",
              "  </style>\n",
              "\n",
              "      <script>\n",
              "        const buttonEl =\n",
              "          document.querySelector('#df-c9694913-1ae3-4d54-b02e-a4501cef5571 button.colab-df-convert');\n",
              "        buttonEl.style.display =\n",
              "          google.colab.kernel.accessAllowed ? 'block' : 'none';\n",
              "\n",
              "        async function convertToInteractive(key) {\n",
              "          const element = document.querySelector('#df-c9694913-1ae3-4d54-b02e-a4501cef5571');\n",
              "          const dataTable =\n",
              "            await google.colab.kernel.invokeFunction('convertToInteractive',\n",
              "                                                     [key], {});\n",
              "          if (!dataTable) return;\n",
              "\n",
              "          const docLinkHtml = 'Like what you see? Visit the ' +\n",
              "            '<a target=\"_blank\" href=https://colab.research.google.com/notebooks/data_table.ipynb>data table notebook</a>'\n",
              "            + ' to learn more about interactive tables.';\n",
              "          element.innerHTML = '';\n",
              "          dataTable['output_type'] = 'display_data';\n",
              "          await google.colab.output.renderOutput(dataTable, element);\n",
              "          const docLink = document.createElement('div');\n",
              "          docLink.innerHTML = docLinkHtml;\n",
              "          element.appendChild(docLink);\n",
              "        }\n",
              "      </script>\n",
              "    </div>\n",
              "  </div>\n",
              "  "
            ]
          },
          "metadata": {},
          "execution_count": 5
        }
      ]
    },
    {
      "cell_type": "code",
      "source": [
        "print(df['race'].unique())"
      ],
      "metadata": {
        "colab": {
          "base_uri": "https://localhost:8080/"
        },
        "id": "L979nwXuFq3M",
        "outputId": "98bdd32c-888a-43fd-9135-83d6ab50998f"
      },
      "execution_count": 6,
      "outputs": [
        {
          "output_type": "stream",
          "name": "stdout",
          "text": [
            "['White' 'Black' 'Asian-Pac-Islander' 'Amer-Indian-Eskimo' 'Other']\n"
          ]
        }
      ]
    },
    {
      "cell_type": "code",
      "source": [
        "race_counts = df['race'].value_counts()\n",
        "print(race_counts) "
      ],
      "metadata": {
        "colab": {
          "base_uri": "https://localhost:8080/"
        },
        "id": "hXFbYffFGVuM",
        "outputId": "cac288e1-c90b-40c5-fe6f-2fd93c2ef39b"
      },
      "execution_count": 7,
      "outputs": [
        {
          "output_type": "stream",
          "name": "stdout",
          "text": [
            "White                 27816\n",
            "Black                  3124\n",
            "Asian-Pac-Islander     1039\n",
            "Amer-Indian-Eskimo      311\n",
            "Other                   271\n",
            "Name: race, dtype: int64\n"
          ]
        }
      ]
    },
    {
      "cell_type": "markdown",
      "source": [
        "- **What is the average age of men?**"
      ],
      "metadata": {
        "id": "EnylH359KuTm"
      }
    },
    {
      "cell_type": "code",
      "source": [
        "df['sex'].unique()"
      ],
      "metadata": {
        "colab": {
          "base_uri": "https://localhost:8080/"
        },
        "id": "Aurvy4CMIDEN",
        "outputId": "5fbec338-6f49-4399-ab7a-9f15cfd0af28"
      },
      "execution_count": 8,
      "outputs": [
        {
          "output_type": "execute_result",
          "data": {
            "text/plain": [
              "array(['Male', 'Female'], dtype=object)"
            ]
          },
          "metadata": {},
          "execution_count": 8
        }
      ]
    },
    {
      "cell_type": "code",
      "source": [
        "df['sex'].value_counts()"
      ],
      "metadata": {
        "colab": {
          "base_uri": "https://localhost:8080/"
        },
        "id": "o2S5V8VwIPg_",
        "outputId": "232db98f-4ecb-44ad-d543-a39ceb92bdbd"
      },
      "execution_count": 9,
      "outputs": [
        {
          "output_type": "execute_result",
          "data": {
            "text/plain": [
              "Male      21790\n",
              "Female    10771\n",
              "Name: sex, dtype: int64"
            ]
          },
          "metadata": {},
          "execution_count": 9
        }
      ]
    },
    {
      "cell_type": "code",
      "source": [
        "print(df['age'].unique())"
      ],
      "metadata": {
        "colab": {
          "base_uri": "https://localhost:8080/"
        },
        "id": "A235GuKYJuTc",
        "outputId": "64ac1ea6-6707-4236-af96-f1bdcb194ee2"
      },
      "execution_count": 10,
      "outputs": [
        {
          "output_type": "stream",
          "name": "stdout",
          "text": [
            "[39 50 38 53 28 37 49 52 31 42 30 23 32 40 34 25 43 54 35 59 56 19 20 45\n",
            " 22 48 21 24 57 44 41 29 18 47 46 36 79 27 67 33 76 17 55 61 70 64 71 68\n",
            " 66 51 58 26 60 90 75 65 77 62 63 80 72 74 69 73 81 78 88 82 83 84 85 86\n",
            " 87]\n"
          ]
        }
      ]
    },
    {
      "cell_type": "code",
      "source": [
        "pd.read_csv('adult.data.csv', usecols=['age','sex'])"
      ],
      "metadata": {
        "colab": {
          "base_uri": "https://localhost:8080/",
          "height": 424
        },
        "id": "OhPGm67VKA87",
        "outputId": "c2d49f4f-23ff-40ea-e660-d4166eb31a79"
      },
      "execution_count": 11,
      "outputs": [
        {
          "output_type": "execute_result",
          "data": {
            "text/plain": [
              "       age     sex\n",
              "0       39    Male\n",
              "1       50    Male\n",
              "2       38    Male\n",
              "3       53    Male\n",
              "4       28  Female\n",
              "...    ...     ...\n",
              "32556   27  Female\n",
              "32557   40    Male\n",
              "32558   58  Female\n",
              "32559   22    Male\n",
              "32560   52  Female\n",
              "\n",
              "[32561 rows x 2 columns]"
            ],
            "text/html": [
              "\n",
              "  <div id=\"df-2fd7081e-7d1e-4e58-94ff-b05306deddea\">\n",
              "    <div class=\"colab-df-container\">\n",
              "      <div>\n",
              "<style scoped>\n",
              "    .dataframe tbody tr th:only-of-type {\n",
              "        vertical-align: middle;\n",
              "    }\n",
              "\n",
              "    .dataframe tbody tr th {\n",
              "        vertical-align: top;\n",
              "    }\n",
              "\n",
              "    .dataframe thead th {\n",
              "        text-align: right;\n",
              "    }\n",
              "</style>\n",
              "<table border=\"1\" class=\"dataframe\">\n",
              "  <thead>\n",
              "    <tr style=\"text-align: right;\">\n",
              "      <th></th>\n",
              "      <th>age</th>\n",
              "      <th>sex</th>\n",
              "    </tr>\n",
              "  </thead>\n",
              "  <tbody>\n",
              "    <tr>\n",
              "      <th>0</th>\n",
              "      <td>39</td>\n",
              "      <td>Male</td>\n",
              "    </tr>\n",
              "    <tr>\n",
              "      <th>1</th>\n",
              "      <td>50</td>\n",
              "      <td>Male</td>\n",
              "    </tr>\n",
              "    <tr>\n",
              "      <th>2</th>\n",
              "      <td>38</td>\n",
              "      <td>Male</td>\n",
              "    </tr>\n",
              "    <tr>\n",
              "      <th>3</th>\n",
              "      <td>53</td>\n",
              "      <td>Male</td>\n",
              "    </tr>\n",
              "    <tr>\n",
              "      <th>4</th>\n",
              "      <td>28</td>\n",
              "      <td>Female</td>\n",
              "    </tr>\n",
              "    <tr>\n",
              "      <th>...</th>\n",
              "      <td>...</td>\n",
              "      <td>...</td>\n",
              "    </tr>\n",
              "    <tr>\n",
              "      <th>32556</th>\n",
              "      <td>27</td>\n",
              "      <td>Female</td>\n",
              "    </tr>\n",
              "    <tr>\n",
              "      <th>32557</th>\n",
              "      <td>40</td>\n",
              "      <td>Male</td>\n",
              "    </tr>\n",
              "    <tr>\n",
              "      <th>32558</th>\n",
              "      <td>58</td>\n",
              "      <td>Female</td>\n",
              "    </tr>\n",
              "    <tr>\n",
              "      <th>32559</th>\n",
              "      <td>22</td>\n",
              "      <td>Male</td>\n",
              "    </tr>\n",
              "    <tr>\n",
              "      <th>32560</th>\n",
              "      <td>52</td>\n",
              "      <td>Female</td>\n",
              "    </tr>\n",
              "  </tbody>\n",
              "</table>\n",
              "<p>32561 rows × 2 columns</p>\n",
              "</div>\n",
              "      <button class=\"colab-df-convert\" onclick=\"convertToInteractive('df-2fd7081e-7d1e-4e58-94ff-b05306deddea')\"\n",
              "              title=\"Convert this dataframe to an interactive table.\"\n",
              "              style=\"display:none;\">\n",
              "        \n",
              "  <svg xmlns=\"http://www.w3.org/2000/svg\" height=\"24px\"viewBox=\"0 0 24 24\"\n",
              "       width=\"24px\">\n",
              "    <path d=\"M0 0h24v24H0V0z\" fill=\"none\"/>\n",
              "    <path d=\"M18.56 5.44l.94 2.06.94-2.06 2.06-.94-2.06-.94-.94-2.06-.94 2.06-2.06.94zm-11 1L8.5 8.5l.94-2.06 2.06-.94-2.06-.94L8.5 2.5l-.94 2.06-2.06.94zm10 10l.94 2.06.94-2.06 2.06-.94-2.06-.94-.94-2.06-.94 2.06-2.06.94z\"/><path d=\"M17.41 7.96l-1.37-1.37c-.4-.4-.92-.59-1.43-.59-.52 0-1.04.2-1.43.59L10.3 9.45l-7.72 7.72c-.78.78-.78 2.05 0 2.83L4 21.41c.39.39.9.59 1.41.59.51 0 1.02-.2 1.41-.59l7.78-7.78 2.81-2.81c.8-.78.8-2.07 0-2.86zM5.41 20L4 18.59l7.72-7.72 1.47 1.35L5.41 20z\"/>\n",
              "  </svg>\n",
              "      </button>\n",
              "      \n",
              "  <style>\n",
              "    .colab-df-container {\n",
              "      display:flex;\n",
              "      flex-wrap:wrap;\n",
              "      gap: 12px;\n",
              "    }\n",
              "\n",
              "    .colab-df-convert {\n",
              "      background-color: #E8F0FE;\n",
              "      border: none;\n",
              "      border-radius: 50%;\n",
              "      cursor: pointer;\n",
              "      display: none;\n",
              "      fill: #1967D2;\n",
              "      height: 32px;\n",
              "      padding: 0 0 0 0;\n",
              "      width: 32px;\n",
              "    }\n",
              "\n",
              "    .colab-df-convert:hover {\n",
              "      background-color: #E2EBFA;\n",
              "      box-shadow: 0px 1px 2px rgba(60, 64, 67, 0.3), 0px 1px 3px 1px rgba(60, 64, 67, 0.15);\n",
              "      fill: #174EA6;\n",
              "    }\n",
              "\n",
              "    [theme=dark] .colab-df-convert {\n",
              "      background-color: #3B4455;\n",
              "      fill: #D2E3FC;\n",
              "    }\n",
              "\n",
              "    [theme=dark] .colab-df-convert:hover {\n",
              "      background-color: #434B5C;\n",
              "      box-shadow: 0px 1px 3px 1px rgba(0, 0, 0, 0.15);\n",
              "      filter: drop-shadow(0px 1px 2px rgba(0, 0, 0, 0.3));\n",
              "      fill: #FFFFFF;\n",
              "    }\n",
              "  </style>\n",
              "\n",
              "      <script>\n",
              "        const buttonEl =\n",
              "          document.querySelector('#df-2fd7081e-7d1e-4e58-94ff-b05306deddea button.colab-df-convert');\n",
              "        buttonEl.style.display =\n",
              "          google.colab.kernel.accessAllowed ? 'block' : 'none';\n",
              "\n",
              "        async function convertToInteractive(key) {\n",
              "          const element = document.querySelector('#df-2fd7081e-7d1e-4e58-94ff-b05306deddea');\n",
              "          const dataTable =\n",
              "            await google.colab.kernel.invokeFunction('convertToInteractive',\n",
              "                                                     [key], {});\n",
              "          if (!dataTable) return;\n",
              "\n",
              "          const docLinkHtml = 'Like what you see? Visit the ' +\n",
              "            '<a target=\"_blank\" href=https://colab.research.google.com/notebooks/data_table.ipynb>data table notebook</a>'\n",
              "            + ' to learn more about interactive tables.';\n",
              "          element.innerHTML = '';\n",
              "          dataTable['output_type'] = 'display_data';\n",
              "          await google.colab.output.renderOutput(dataTable, element);\n",
              "          const docLink = document.createElement('div');\n",
              "          docLink.innerHTML = docLinkHtml;\n",
              "          element.appendChild(docLink);\n",
              "        }\n",
              "      </script>\n",
              "    </div>\n",
              "  </div>\n",
              "  "
            ]
          },
          "metadata": {},
          "execution_count": 11
        }
      ]
    },
    {
      "cell_type": "code",
      "source": [
        "grouped = df.groupby('sex')\n",
        "df_grouped = grouped.get_group('Male')\n",
        "\n",
        "print(df_grouped)"
      ],
      "metadata": {
        "colab": {
          "base_uri": "https://localhost:8080/"
        },
        "id": "2y-JaPjnRdTk",
        "outputId": "605bafb3-8825-4096-e6d2-72742b12decc"
      },
      "execution_count": 12,
      "outputs": [
        {
          "output_type": "stream",
          "name": "stdout",
          "text": [
            "       age         workclass  fnlwgt     education  education-num  \\\n",
            "0       39         State-gov   77516     Bachelors             13   \n",
            "1       50  Self-emp-not-inc   83311     Bachelors             13   \n",
            "2       38           Private  215646       HS-grad              9   \n",
            "3       53           Private  234721          11th              7   \n",
            "7       52  Self-emp-not-inc  209642       HS-grad              9   \n",
            "...    ...               ...     ...           ...            ...   \n",
            "32553   32           Private  116138       Masters             14   \n",
            "32554   53           Private  321865       Masters             14   \n",
            "32555   22           Private  310152  Some-college             10   \n",
            "32557   40           Private  154374       HS-grad              9   \n",
            "32559   22           Private  201490       HS-grad              9   \n",
            "\n",
            "           marital-status         occupation   relationship  \\\n",
            "0           Never-married       Adm-clerical  Not-in-family   \n",
            "1      Married-civ-spouse    Exec-managerial        Husband   \n",
            "2                Divorced  Handlers-cleaners  Not-in-family   \n",
            "3      Married-civ-spouse  Handlers-cleaners        Husband   \n",
            "7      Married-civ-spouse    Exec-managerial        Husband   \n",
            "...                   ...                ...            ...   \n",
            "32553       Never-married       Tech-support  Not-in-family   \n",
            "32554  Married-civ-spouse    Exec-managerial        Husband   \n",
            "32555       Never-married    Protective-serv  Not-in-family   \n",
            "32557  Married-civ-spouse  Machine-op-inspct        Husband   \n",
            "32559       Never-married       Adm-clerical      Own-child   \n",
            "\n",
            "                     race   sex  capital-gain  capital-loss  hours-per-week  \\\n",
            "0                   White  Male          2174             0              40   \n",
            "1                   White  Male             0             0              13   \n",
            "2                   White  Male             0             0              40   \n",
            "3                   Black  Male             0             0              40   \n",
            "7                   White  Male             0             0              45   \n",
            "...                   ...   ...           ...           ...             ...   \n",
            "32553  Asian-Pac-Islander  Male             0             0              11   \n",
            "32554               White  Male             0             0              40   \n",
            "32555               White  Male             0             0              40   \n",
            "32557               White  Male             0             0              40   \n",
            "32559               White  Male             0             0              20   \n",
            "\n",
            "      native-country salary  \n",
            "0      United-States  <=50K  \n",
            "1      United-States  <=50K  \n",
            "2      United-States  <=50K  \n",
            "3      United-States  <=50K  \n",
            "7      United-States   >50K  \n",
            "...              ...    ...  \n",
            "32553         Taiwan  <=50K  \n",
            "32554  United-States   >50K  \n",
            "32555  United-States  <=50K  \n",
            "32557  United-States   >50K  \n",
            "32559  United-States  <=50K  \n",
            "\n",
            "[21790 rows x 15 columns]\n"
          ]
        }
      ]
    },
    {
      "cell_type": "code",
      "source": [
        "df_grouped[['age','sex']]"
      ],
      "metadata": {
        "colab": {
          "base_uri": "https://localhost:8080/",
          "height": 424
        },
        "id": "GEFF8Fh2RhUR",
        "outputId": "bcad431d-6179-485f-eae6-47157c25720b"
      },
      "execution_count": 13,
      "outputs": [
        {
          "output_type": "execute_result",
          "data": {
            "text/plain": [
              "       age   sex\n",
              "0       39  Male\n",
              "1       50  Male\n",
              "2       38  Male\n",
              "3       53  Male\n",
              "7       52  Male\n",
              "...    ...   ...\n",
              "32553   32  Male\n",
              "32554   53  Male\n",
              "32555   22  Male\n",
              "32557   40  Male\n",
              "32559   22  Male\n",
              "\n",
              "[21790 rows x 2 columns]"
            ],
            "text/html": [
              "\n",
              "  <div id=\"df-93d11b4c-1a6c-4199-891d-f47e86dfdbad\">\n",
              "    <div class=\"colab-df-container\">\n",
              "      <div>\n",
              "<style scoped>\n",
              "    .dataframe tbody tr th:only-of-type {\n",
              "        vertical-align: middle;\n",
              "    }\n",
              "\n",
              "    .dataframe tbody tr th {\n",
              "        vertical-align: top;\n",
              "    }\n",
              "\n",
              "    .dataframe thead th {\n",
              "        text-align: right;\n",
              "    }\n",
              "</style>\n",
              "<table border=\"1\" class=\"dataframe\">\n",
              "  <thead>\n",
              "    <tr style=\"text-align: right;\">\n",
              "      <th></th>\n",
              "      <th>age</th>\n",
              "      <th>sex</th>\n",
              "    </tr>\n",
              "  </thead>\n",
              "  <tbody>\n",
              "    <tr>\n",
              "      <th>0</th>\n",
              "      <td>39</td>\n",
              "      <td>Male</td>\n",
              "    </tr>\n",
              "    <tr>\n",
              "      <th>1</th>\n",
              "      <td>50</td>\n",
              "      <td>Male</td>\n",
              "    </tr>\n",
              "    <tr>\n",
              "      <th>2</th>\n",
              "      <td>38</td>\n",
              "      <td>Male</td>\n",
              "    </tr>\n",
              "    <tr>\n",
              "      <th>3</th>\n",
              "      <td>53</td>\n",
              "      <td>Male</td>\n",
              "    </tr>\n",
              "    <tr>\n",
              "      <th>7</th>\n",
              "      <td>52</td>\n",
              "      <td>Male</td>\n",
              "    </tr>\n",
              "    <tr>\n",
              "      <th>...</th>\n",
              "      <td>...</td>\n",
              "      <td>...</td>\n",
              "    </tr>\n",
              "    <tr>\n",
              "      <th>32553</th>\n",
              "      <td>32</td>\n",
              "      <td>Male</td>\n",
              "    </tr>\n",
              "    <tr>\n",
              "      <th>32554</th>\n",
              "      <td>53</td>\n",
              "      <td>Male</td>\n",
              "    </tr>\n",
              "    <tr>\n",
              "      <th>32555</th>\n",
              "      <td>22</td>\n",
              "      <td>Male</td>\n",
              "    </tr>\n",
              "    <tr>\n",
              "      <th>32557</th>\n",
              "      <td>40</td>\n",
              "      <td>Male</td>\n",
              "    </tr>\n",
              "    <tr>\n",
              "      <th>32559</th>\n",
              "      <td>22</td>\n",
              "      <td>Male</td>\n",
              "    </tr>\n",
              "  </tbody>\n",
              "</table>\n",
              "<p>21790 rows × 2 columns</p>\n",
              "</div>\n",
              "      <button class=\"colab-df-convert\" onclick=\"convertToInteractive('df-93d11b4c-1a6c-4199-891d-f47e86dfdbad')\"\n",
              "              title=\"Convert this dataframe to an interactive table.\"\n",
              "              style=\"display:none;\">\n",
              "        \n",
              "  <svg xmlns=\"http://www.w3.org/2000/svg\" height=\"24px\"viewBox=\"0 0 24 24\"\n",
              "       width=\"24px\">\n",
              "    <path d=\"M0 0h24v24H0V0z\" fill=\"none\"/>\n",
              "    <path d=\"M18.56 5.44l.94 2.06.94-2.06 2.06-.94-2.06-.94-.94-2.06-.94 2.06-2.06.94zm-11 1L8.5 8.5l.94-2.06 2.06-.94-2.06-.94L8.5 2.5l-.94 2.06-2.06.94zm10 10l.94 2.06.94-2.06 2.06-.94-2.06-.94-.94-2.06-.94 2.06-2.06.94z\"/><path d=\"M17.41 7.96l-1.37-1.37c-.4-.4-.92-.59-1.43-.59-.52 0-1.04.2-1.43.59L10.3 9.45l-7.72 7.72c-.78.78-.78 2.05 0 2.83L4 21.41c.39.39.9.59 1.41.59.51 0 1.02-.2 1.41-.59l7.78-7.78 2.81-2.81c.8-.78.8-2.07 0-2.86zM5.41 20L4 18.59l7.72-7.72 1.47 1.35L5.41 20z\"/>\n",
              "  </svg>\n",
              "      </button>\n",
              "      \n",
              "  <style>\n",
              "    .colab-df-container {\n",
              "      display:flex;\n",
              "      flex-wrap:wrap;\n",
              "      gap: 12px;\n",
              "    }\n",
              "\n",
              "    .colab-df-convert {\n",
              "      background-color: #E8F0FE;\n",
              "      border: none;\n",
              "      border-radius: 50%;\n",
              "      cursor: pointer;\n",
              "      display: none;\n",
              "      fill: #1967D2;\n",
              "      height: 32px;\n",
              "      padding: 0 0 0 0;\n",
              "      width: 32px;\n",
              "    }\n",
              "\n",
              "    .colab-df-convert:hover {\n",
              "      background-color: #E2EBFA;\n",
              "      box-shadow: 0px 1px 2px rgba(60, 64, 67, 0.3), 0px 1px 3px 1px rgba(60, 64, 67, 0.15);\n",
              "      fill: #174EA6;\n",
              "    }\n",
              "\n",
              "    [theme=dark] .colab-df-convert {\n",
              "      background-color: #3B4455;\n",
              "      fill: #D2E3FC;\n",
              "    }\n",
              "\n",
              "    [theme=dark] .colab-df-convert:hover {\n",
              "      background-color: #434B5C;\n",
              "      box-shadow: 0px 1px 3px 1px rgba(0, 0, 0, 0.15);\n",
              "      filter: drop-shadow(0px 1px 2px rgba(0, 0, 0, 0.3));\n",
              "      fill: #FFFFFF;\n",
              "    }\n",
              "  </style>\n",
              "\n",
              "      <script>\n",
              "        const buttonEl =\n",
              "          document.querySelector('#df-93d11b4c-1a6c-4199-891d-f47e86dfdbad button.colab-df-convert');\n",
              "        buttonEl.style.display =\n",
              "          google.colab.kernel.accessAllowed ? 'block' : 'none';\n",
              "\n",
              "        async function convertToInteractive(key) {\n",
              "          const element = document.querySelector('#df-93d11b4c-1a6c-4199-891d-f47e86dfdbad');\n",
              "          const dataTable =\n",
              "            await google.colab.kernel.invokeFunction('convertToInteractive',\n",
              "                                                     [key], {});\n",
              "          if (!dataTable) return;\n",
              "\n",
              "          const docLinkHtml = 'Like what you see? Visit the ' +\n",
              "            '<a target=\"_blank\" href=https://colab.research.google.com/notebooks/data_table.ipynb>data table notebook</a>'\n",
              "            + ' to learn more about interactive tables.';\n",
              "          element.innerHTML = '';\n",
              "          dataTable['output_type'] = 'display_data';\n",
              "          await google.colab.output.renderOutput(dataTable, element);\n",
              "          const docLink = document.createElement('div');\n",
              "          docLink.innerHTML = docLinkHtml;\n",
              "          element.appendChild(docLink);\n",
              "        }\n",
              "      </script>\n",
              "    </div>\n",
              "  </div>\n",
              "  "
            ]
          },
          "metadata": {},
          "execution_count": 13
        }
      ]
    },
    {
      "cell_type": "code",
      "source": [
        "sum(df_grouped.value_counts())"
      ],
      "metadata": {
        "colab": {
          "base_uri": "https://localhost:8080/"
        },
        "id": "3IWo1h_j57Y8",
        "outputId": "f461482f-55a8-4dac-8354-f60e5e1803ab"
      },
      "execution_count": 14,
      "outputs": [
        {
          "output_type": "execute_result",
          "data": {
            "text/plain": [
              "21790"
            ]
          },
          "metadata": {},
          "execution_count": 14
        }
      ]
    },
    {
      "cell_type": "code",
      "source": [
        "average_age_men = round(df_grouped['age'].mean(),1)\n",
        "print(average_age_men) "
      ],
      "metadata": {
        "colab": {
          "base_uri": "https://localhost:8080/"
        },
        "id": "9__9BC5xR4g6",
        "outputId": "27fc5bf9-9871-4108-d580-07fa13807eb6"
      },
      "execution_count": 15,
      "outputs": [
        {
          "output_type": "stream",
          "name": "stdout",
          "text": [
            "39.4\n"
          ]
        }
      ]
    },
    {
      "cell_type": "code",
      "source": [
        "print(df['education'].unique())"
      ],
      "metadata": {
        "colab": {
          "base_uri": "https://localhost:8080/"
        },
        "id": "YqsNsVQVbRHD",
        "outputId": "db015f46-5137-4993-9c9c-d08b52ce6c86"
      },
      "execution_count": 16,
      "outputs": [
        {
          "output_type": "stream",
          "name": "stdout",
          "text": [
            "['Bachelors' 'HS-grad' '11th' 'Masters' '9th' 'Some-college' 'Assoc-acdm'\n",
            " 'Assoc-voc' '7th-8th' 'Doctorate' 'Prof-school' '5th-6th' '10th'\n",
            " '1st-4th' 'Preschool' '12th']\n"
          ]
        }
      ]
    },
    {
      "cell_type": "markdown",
      "source": [
        "- **What is the percentage of people who have a Bachelor's degree?**"
      ],
      "metadata": {
        "id": "rp4IkcKNKzSb"
      }
    },
    {
      "cell_type": "code",
      "source": [
        "degree = df.groupby('education')\n",
        "df_degree = degree.get_group('Bachelors')\n",
        "\n",
        "print(df_degree)"
      ],
      "metadata": {
        "colab": {
          "base_uri": "https://localhost:8080/"
        },
        "id": "CPJmYLx6UzaL",
        "outputId": "bd041ab3-145b-4ea3-ed42-56cff24f23ec"
      },
      "execution_count": 17,
      "outputs": [
        {
          "output_type": "stream",
          "name": "stdout",
          "text": [
            "       age         workclass  fnlwgt  education  education-num  \\\n",
            "0       39         State-gov   77516  Bachelors             13   \n",
            "1       50  Self-emp-not-inc   83311  Bachelors             13   \n",
            "4       28           Private  338409  Bachelors             13   \n",
            "9       42           Private  159449  Bachelors             13   \n",
            "11      30         State-gov  141297  Bachelors             13   \n",
            "...    ...               ...     ...        ...            ...   \n",
            "32530   35                 ?  320084  Bachelors             13   \n",
            "32531   30                 ?   33811  Bachelors             13   \n",
            "32533   54           Private  337992  Bachelors             13   \n",
            "32536   34           Private  160216  Bachelors             13   \n",
            "32538   38           Private  139180  Bachelors             13   \n",
            "\n",
            "           marital-status       occupation   relationship                race  \\\n",
            "0           Never-married     Adm-clerical  Not-in-family               White   \n",
            "1      Married-civ-spouse  Exec-managerial        Husband               White   \n",
            "4      Married-civ-spouse   Prof-specialty           Wife               Black   \n",
            "9      Married-civ-spouse  Exec-managerial        Husband               White   \n",
            "11     Married-civ-spouse   Prof-specialty        Husband  Asian-Pac-Islander   \n",
            "...                   ...              ...            ...                 ...   \n",
            "32530  Married-civ-spouse                ?           Wife               White   \n",
            "32531       Never-married                ?  Not-in-family  Asian-Pac-Islander   \n",
            "32533  Married-civ-spouse  Exec-managerial        Husband  Asian-Pac-Islander   \n",
            "32536       Never-married  Exec-managerial  Not-in-family               White   \n",
            "32538            Divorced   Prof-specialty      Unmarried               Black   \n",
            "\n",
            "          sex  capital-gain  capital-loss  hours-per-week native-country  \\\n",
            "0        Male          2174             0              40  United-States   \n",
            "1        Male             0             0              13  United-States   \n",
            "4      Female             0             0              40           Cuba   \n",
            "9        Male          5178             0              40  United-States   \n",
            "11       Male             0             0              40          India   \n",
            "...       ...           ...           ...             ...            ...   \n",
            "32530  Female             0             0              55  United-States   \n",
            "32531  Female             0             0              99  United-States   \n",
            "32533    Male             0             0              50          Japan   \n",
            "32536  Female             0             0              55  United-States   \n",
            "32538  Female         15020             0              45  United-States   \n",
            "\n",
            "      salary  \n",
            "0      <=50K  \n",
            "1      <=50K  \n",
            "4      <=50K  \n",
            "9       >50K  \n",
            "11      >50K  \n",
            "...      ...  \n",
            "32530   >50K  \n",
            "32531  <=50K  \n",
            "32533   >50K  \n",
            "32536   >50K  \n",
            "32538   >50K  \n",
            "\n",
            "[5355 rows x 15 columns]\n"
          ]
        }
      ]
    },
    {
      "cell_type": "code",
      "source": [
        "df_degree['education'].value_counts()"
      ],
      "metadata": {
        "colab": {
          "base_uri": "https://localhost:8080/"
        },
        "id": "Nksj4tu0Wg8h",
        "outputId": "43c40cab-aa3c-4043-ae79-ff27e888e491"
      },
      "execution_count": 18,
      "outputs": [
        {
          "output_type": "execute_result",
          "data": {
            "text/plain": [
              "Bachelors    5355\n",
              "Name: education, dtype: int64"
            ]
          },
          "metadata": {},
          "execution_count": 18
        }
      ]
    },
    {
      "cell_type": "code",
      "source": [
        "a = sum(df_degree['education'].value_counts())\n",
        "print(a)"
      ],
      "metadata": {
        "colab": {
          "base_uri": "https://localhost:8080/"
        },
        "id": "L67yEYZjYxRN",
        "outputId": "66c47458-15ab-4e70-f709-e40f9c2eea32"
      },
      "execution_count": 19,
      "outputs": [
        {
          "output_type": "stream",
          "name": "stdout",
          "text": [
            "5355\n"
          ]
        }
      ]
    },
    {
      "cell_type": "code",
      "source": [
        "b = sum(df['education'].value_counts())\n",
        "print(b)"
      ],
      "metadata": {
        "colab": {
          "base_uri": "https://localhost:8080/"
        },
        "id": "cCkmORDQY1iO",
        "outputId": "09c026fa-a4b5-495e-aee8-cba1da47b976"
      },
      "execution_count": 20,
      "outputs": [
        {
          "output_type": "stream",
          "name": "stdout",
          "text": [
            "32561\n"
          ]
        }
      ]
    },
    {
      "cell_type": "code",
      "source": [
        "percentage_bachelors = (a / b) * 100\n",
        "print(round(percentage_bachelors, 1))"
      ],
      "metadata": {
        "colab": {
          "base_uri": "https://localhost:8080/"
        },
        "id": "TNWJIkIXZ3Jt",
        "outputId": "dc6ae834-e4d9-447d-e884-d5229d7af28a"
      },
      "execution_count": 21,
      "outputs": [
        {
          "output_type": "stream",
          "name": "stdout",
          "text": [
            "16.4\n"
          ]
        }
      ]
    },
    {
      "cell_type": "markdown",
      "source": [
        "- **Percentage of people with advanced education (`Bachelors`, `Masters`, or `Doctorate`)**"
      ],
      "metadata": {
        "id": "f4LJL5a0K3L7"
      }
    },
    {
      "cell_type": "code",
      "source": [
        "df['education'].unique()"
      ],
      "metadata": {
        "colab": {
          "base_uri": "https://localhost:8080/"
        },
        "id": "nCrvoYAVFWZw",
        "outputId": "b5cba3ff-3279-4515-e256-d61635ec2af6"
      },
      "execution_count": 22,
      "outputs": [
        {
          "output_type": "execute_result",
          "data": {
            "text/plain": [
              "array(['Bachelors', 'HS-grad', '11th', 'Masters', '9th', 'Some-college',\n",
              "       'Assoc-acdm', 'Assoc-voc', '7th-8th', 'Doctorate', 'Prof-school',\n",
              "       '5th-6th', '10th', '1st-4th', 'Preschool', '12th'], dtype=object)"
            ]
          },
          "metadata": {},
          "execution_count": 22
        }
      ]
    },
    {
      "cell_type": "code",
      "source": [
        "df['education'].value_counts()"
      ],
      "metadata": {
        "colab": {
          "base_uri": "https://localhost:8080/"
        },
        "id": "Tvg1gWfyFWVm",
        "outputId": "709bcd17-f9ff-48fc-d2a0-9d354400f107"
      },
      "execution_count": 23,
      "outputs": [
        {
          "output_type": "execute_result",
          "data": {
            "text/plain": [
              "HS-grad         10501\n",
              "Some-college     7291\n",
              "Bachelors        5355\n",
              "Masters          1723\n",
              "Assoc-voc        1382\n",
              "11th             1175\n",
              "Assoc-acdm       1067\n",
              "10th              933\n",
              "7th-8th           646\n",
              "Prof-school       576\n",
              "9th               514\n",
              "12th              433\n",
              "Doctorate         413\n",
              "5th-6th           333\n",
              "1st-4th           168\n",
              "Preschool          51\n",
              "Name: education, dtype: int64"
            ]
          },
          "metadata": {},
          "execution_count": 23
        }
      ]
    },
    {
      "cell_type": "code",
      "source": [
        "sum(df['education'].value_counts())"
      ],
      "metadata": {
        "colab": {
          "base_uri": "https://localhost:8080/"
        },
        "id": "B5JiK5zLJY7l",
        "outputId": "0f2ba7fb-9160-4f72-ed5d-519ab941640e"
      },
      "execution_count": 24,
      "outputs": [
        {
          "output_type": "execute_result",
          "data": {
            "text/plain": [
              "32561"
            ]
          },
          "metadata": {},
          "execution_count": 24
        }
      ]
    },
    {
      "cell_type": "code",
      "source": [
        "higher_edu = df[df['education'].isin(['Bachelors', 'Masters', 'Doctorate'])]\n",
        "\n",
        "higher_edu.head()"
      ],
      "metadata": {
        "colab": {
          "base_uri": "https://localhost:8080/",
          "height": 320
        },
        "id": "dpY9S7O_FWR9",
        "outputId": "f7f9c233-d2c0-472a-b60d-a8907b9d0948"
      },
      "execution_count": 25,
      "outputs": [
        {
          "output_type": "execute_result",
          "data": {
            "text/plain": [
              "   age         workclass  fnlwgt  education  education-num  \\\n",
              "0   39         State-gov   77516  Bachelors             13   \n",
              "1   50  Self-emp-not-inc   83311  Bachelors             13   \n",
              "4   28           Private  338409  Bachelors             13   \n",
              "5   37           Private  284582    Masters             14   \n",
              "8   31           Private   45781    Masters             14   \n",
              "\n",
              "       marital-status       occupation   relationship   race     sex  \\\n",
              "0       Never-married     Adm-clerical  Not-in-family  White    Male   \n",
              "1  Married-civ-spouse  Exec-managerial        Husband  White    Male   \n",
              "4  Married-civ-spouse   Prof-specialty           Wife  Black  Female   \n",
              "5  Married-civ-spouse  Exec-managerial           Wife  White  Female   \n",
              "8       Never-married   Prof-specialty  Not-in-family  White  Female   \n",
              "\n",
              "   capital-gain  capital-loss  hours-per-week native-country salary  \n",
              "0          2174             0              40  United-States  <=50K  \n",
              "1             0             0              13  United-States  <=50K  \n",
              "4             0             0              40           Cuba  <=50K  \n",
              "5             0             0              40  United-States  <=50K  \n",
              "8         14084             0              50  United-States   >50K  "
            ],
            "text/html": [
              "\n",
              "  <div id=\"df-f5545543-88d0-4180-b895-71ee38f703ce\">\n",
              "    <div class=\"colab-df-container\">\n",
              "      <div>\n",
              "<style scoped>\n",
              "    .dataframe tbody tr th:only-of-type {\n",
              "        vertical-align: middle;\n",
              "    }\n",
              "\n",
              "    .dataframe tbody tr th {\n",
              "        vertical-align: top;\n",
              "    }\n",
              "\n",
              "    .dataframe thead th {\n",
              "        text-align: right;\n",
              "    }\n",
              "</style>\n",
              "<table border=\"1\" class=\"dataframe\">\n",
              "  <thead>\n",
              "    <tr style=\"text-align: right;\">\n",
              "      <th></th>\n",
              "      <th>age</th>\n",
              "      <th>workclass</th>\n",
              "      <th>fnlwgt</th>\n",
              "      <th>education</th>\n",
              "      <th>education-num</th>\n",
              "      <th>marital-status</th>\n",
              "      <th>occupation</th>\n",
              "      <th>relationship</th>\n",
              "      <th>race</th>\n",
              "      <th>sex</th>\n",
              "      <th>capital-gain</th>\n",
              "      <th>capital-loss</th>\n",
              "      <th>hours-per-week</th>\n",
              "      <th>native-country</th>\n",
              "      <th>salary</th>\n",
              "    </tr>\n",
              "  </thead>\n",
              "  <tbody>\n",
              "    <tr>\n",
              "      <th>0</th>\n",
              "      <td>39</td>\n",
              "      <td>State-gov</td>\n",
              "      <td>77516</td>\n",
              "      <td>Bachelors</td>\n",
              "      <td>13</td>\n",
              "      <td>Never-married</td>\n",
              "      <td>Adm-clerical</td>\n",
              "      <td>Not-in-family</td>\n",
              "      <td>White</td>\n",
              "      <td>Male</td>\n",
              "      <td>2174</td>\n",
              "      <td>0</td>\n",
              "      <td>40</td>\n",
              "      <td>United-States</td>\n",
              "      <td>&lt;=50K</td>\n",
              "    </tr>\n",
              "    <tr>\n",
              "      <th>1</th>\n",
              "      <td>50</td>\n",
              "      <td>Self-emp-not-inc</td>\n",
              "      <td>83311</td>\n",
              "      <td>Bachelors</td>\n",
              "      <td>13</td>\n",
              "      <td>Married-civ-spouse</td>\n",
              "      <td>Exec-managerial</td>\n",
              "      <td>Husband</td>\n",
              "      <td>White</td>\n",
              "      <td>Male</td>\n",
              "      <td>0</td>\n",
              "      <td>0</td>\n",
              "      <td>13</td>\n",
              "      <td>United-States</td>\n",
              "      <td>&lt;=50K</td>\n",
              "    </tr>\n",
              "    <tr>\n",
              "      <th>4</th>\n",
              "      <td>28</td>\n",
              "      <td>Private</td>\n",
              "      <td>338409</td>\n",
              "      <td>Bachelors</td>\n",
              "      <td>13</td>\n",
              "      <td>Married-civ-spouse</td>\n",
              "      <td>Prof-specialty</td>\n",
              "      <td>Wife</td>\n",
              "      <td>Black</td>\n",
              "      <td>Female</td>\n",
              "      <td>0</td>\n",
              "      <td>0</td>\n",
              "      <td>40</td>\n",
              "      <td>Cuba</td>\n",
              "      <td>&lt;=50K</td>\n",
              "    </tr>\n",
              "    <tr>\n",
              "      <th>5</th>\n",
              "      <td>37</td>\n",
              "      <td>Private</td>\n",
              "      <td>284582</td>\n",
              "      <td>Masters</td>\n",
              "      <td>14</td>\n",
              "      <td>Married-civ-spouse</td>\n",
              "      <td>Exec-managerial</td>\n",
              "      <td>Wife</td>\n",
              "      <td>White</td>\n",
              "      <td>Female</td>\n",
              "      <td>0</td>\n",
              "      <td>0</td>\n",
              "      <td>40</td>\n",
              "      <td>United-States</td>\n",
              "      <td>&lt;=50K</td>\n",
              "    </tr>\n",
              "    <tr>\n",
              "      <th>8</th>\n",
              "      <td>31</td>\n",
              "      <td>Private</td>\n",
              "      <td>45781</td>\n",
              "      <td>Masters</td>\n",
              "      <td>14</td>\n",
              "      <td>Never-married</td>\n",
              "      <td>Prof-specialty</td>\n",
              "      <td>Not-in-family</td>\n",
              "      <td>White</td>\n",
              "      <td>Female</td>\n",
              "      <td>14084</td>\n",
              "      <td>0</td>\n",
              "      <td>50</td>\n",
              "      <td>United-States</td>\n",
              "      <td>&gt;50K</td>\n",
              "    </tr>\n",
              "  </tbody>\n",
              "</table>\n",
              "</div>\n",
              "      <button class=\"colab-df-convert\" onclick=\"convertToInteractive('df-f5545543-88d0-4180-b895-71ee38f703ce')\"\n",
              "              title=\"Convert this dataframe to an interactive table.\"\n",
              "              style=\"display:none;\">\n",
              "        \n",
              "  <svg xmlns=\"http://www.w3.org/2000/svg\" height=\"24px\"viewBox=\"0 0 24 24\"\n",
              "       width=\"24px\">\n",
              "    <path d=\"M0 0h24v24H0V0z\" fill=\"none\"/>\n",
              "    <path d=\"M18.56 5.44l.94 2.06.94-2.06 2.06-.94-2.06-.94-.94-2.06-.94 2.06-2.06.94zm-11 1L8.5 8.5l.94-2.06 2.06-.94-2.06-.94L8.5 2.5l-.94 2.06-2.06.94zm10 10l.94 2.06.94-2.06 2.06-.94-2.06-.94-.94-2.06-.94 2.06-2.06.94z\"/><path d=\"M17.41 7.96l-1.37-1.37c-.4-.4-.92-.59-1.43-.59-.52 0-1.04.2-1.43.59L10.3 9.45l-7.72 7.72c-.78.78-.78 2.05 0 2.83L4 21.41c.39.39.9.59 1.41.59.51 0 1.02-.2 1.41-.59l7.78-7.78 2.81-2.81c.8-.78.8-2.07 0-2.86zM5.41 20L4 18.59l7.72-7.72 1.47 1.35L5.41 20z\"/>\n",
              "  </svg>\n",
              "      </button>\n",
              "      \n",
              "  <style>\n",
              "    .colab-df-container {\n",
              "      display:flex;\n",
              "      flex-wrap:wrap;\n",
              "      gap: 12px;\n",
              "    }\n",
              "\n",
              "    .colab-df-convert {\n",
              "      background-color: #E8F0FE;\n",
              "      border: none;\n",
              "      border-radius: 50%;\n",
              "      cursor: pointer;\n",
              "      display: none;\n",
              "      fill: #1967D2;\n",
              "      height: 32px;\n",
              "      padding: 0 0 0 0;\n",
              "      width: 32px;\n",
              "    }\n",
              "\n",
              "    .colab-df-convert:hover {\n",
              "      background-color: #E2EBFA;\n",
              "      box-shadow: 0px 1px 2px rgba(60, 64, 67, 0.3), 0px 1px 3px 1px rgba(60, 64, 67, 0.15);\n",
              "      fill: #174EA6;\n",
              "    }\n",
              "\n",
              "    [theme=dark] .colab-df-convert {\n",
              "      background-color: #3B4455;\n",
              "      fill: #D2E3FC;\n",
              "    }\n",
              "\n",
              "    [theme=dark] .colab-df-convert:hover {\n",
              "      background-color: #434B5C;\n",
              "      box-shadow: 0px 1px 3px 1px rgba(0, 0, 0, 0.15);\n",
              "      filter: drop-shadow(0px 1px 2px rgba(0, 0, 0, 0.3));\n",
              "      fill: #FFFFFF;\n",
              "    }\n",
              "  </style>\n",
              "\n",
              "      <script>\n",
              "        const buttonEl =\n",
              "          document.querySelector('#df-f5545543-88d0-4180-b895-71ee38f703ce button.colab-df-convert');\n",
              "        buttonEl.style.display =\n",
              "          google.colab.kernel.accessAllowed ? 'block' : 'none';\n",
              "\n",
              "        async function convertToInteractive(key) {\n",
              "          const element = document.querySelector('#df-f5545543-88d0-4180-b895-71ee38f703ce');\n",
              "          const dataTable =\n",
              "            await google.colab.kernel.invokeFunction('convertToInteractive',\n",
              "                                                     [key], {});\n",
              "          if (!dataTable) return;\n",
              "\n",
              "          const docLinkHtml = 'Like what you see? Visit the ' +\n",
              "            '<a target=\"_blank\" href=https://colab.research.google.com/notebooks/data_table.ipynb>data table notebook</a>'\n",
              "            + ' to learn more about interactive tables.';\n",
              "          element.innerHTML = '';\n",
              "          dataTable['output_type'] = 'display_data';\n",
              "          await google.colab.output.renderOutput(dataTable, element);\n",
              "          const docLink = document.createElement('div');\n",
              "          docLink.innerHTML = docLinkHtml;\n",
              "          element.appendChild(docLink);\n",
              "        }\n",
              "      </script>\n",
              "    </div>\n",
              "  </div>\n",
              "  "
            ]
          },
          "metadata": {},
          "execution_count": 25
        }
      ]
    },
    {
      "cell_type": "code",
      "source": [
        "higher_edu['education'].value_counts()"
      ],
      "metadata": {
        "colab": {
          "base_uri": "https://localhost:8080/"
        },
        "id": "bThHx0kFJK3W",
        "outputId": "931656ba-8e5d-4fc1-d1e4-33c0f75e125b"
      },
      "execution_count": 26,
      "outputs": [
        {
          "output_type": "execute_result",
          "data": {
            "text/plain": [
              "Bachelors    5355\n",
              "Masters      1723\n",
              "Doctorate     413\n",
              "Name: education, dtype: int64"
            ]
          },
          "metadata": {},
          "execution_count": 26
        }
      ]
    },
    {
      "cell_type": "code",
      "source": [
        "sum(higher_edu['education'].value_counts())"
      ],
      "metadata": {
        "colab": {
          "base_uri": "https://localhost:8080/"
        },
        "id": "cdmRwk2FFWOh",
        "outputId": "64a32e5a-fc5f-4e74-cdad-46866e81421e"
      },
      "execution_count": 27,
      "outputs": [
        {
          "output_type": "execute_result",
          "data": {
            "text/plain": [
              "7491"
            ]
          },
          "metadata": {},
          "execution_count": 27
        }
      ]
    },
    {
      "cell_type": "code",
      "source": [
        "higher_edu_percent = round((sum(higher_edu['education'].value_counts()) / sum(df['education'].value_counts())) * 100, 1)\n",
        "\n",
        "print(higher_edu_percent)"
      ],
      "metadata": {
        "colab": {
          "base_uri": "https://localhost:8080/"
        },
        "id": "5TvGMGy0JeN6",
        "outputId": "1cbae20e-5411-40fc-92d9-ceb97f3f0f50"
      },
      "execution_count": 28,
      "outputs": [
        {
          "output_type": "stream",
          "name": "stdout",
          "text": [
            "23.0\n"
          ]
        }
      ]
    },
    {
      "cell_type": "markdown",
      "source": [
        "- **Percentage of people without advanced education (`Bachelors`, `Masters`, or `Doctorate`)**"
      ],
      "metadata": {
        "id": "OgddUbOUK7Hg"
      }
    },
    {
      "cell_type": "code",
      "source": [
        "lower_edu = df[~df['education'].isin(['Bachelors', 'Masters', 'Doctorate'])]\n",
        "\n",
        "lower_edu.head()"
      ],
      "metadata": {
        "colab": {
          "base_uri": "https://localhost:8080/",
          "height": 354
        },
        "id": "E-B2dEa2FWCZ",
        "outputId": "0b98da99-3ba9-498f-fe10-693f584f05e0"
      },
      "execution_count": 29,
      "outputs": [
        {
          "output_type": "execute_result",
          "data": {
            "text/plain": [
              "    age         workclass  fnlwgt     education  education-num  \\\n",
              "2    38           Private  215646       HS-grad              9   \n",
              "3    53           Private  234721          11th              7   \n",
              "6    49           Private  160187           9th              5   \n",
              "7    52  Self-emp-not-inc  209642       HS-grad              9   \n",
              "10   37           Private  280464  Some-college             10   \n",
              "\n",
              "           marital-status         occupation   relationship   race     sex  \\\n",
              "2                Divorced  Handlers-cleaners  Not-in-family  White    Male   \n",
              "3      Married-civ-spouse  Handlers-cleaners        Husband  Black    Male   \n",
              "6   Married-spouse-absent      Other-service  Not-in-family  Black  Female   \n",
              "7      Married-civ-spouse    Exec-managerial        Husband  White    Male   \n",
              "10     Married-civ-spouse    Exec-managerial        Husband  Black    Male   \n",
              "\n",
              "    capital-gain  capital-loss  hours-per-week native-country salary  \n",
              "2              0             0              40  United-States  <=50K  \n",
              "3              0             0              40  United-States  <=50K  \n",
              "6              0             0              16        Jamaica  <=50K  \n",
              "7              0             0              45  United-States   >50K  \n",
              "10             0             0              80  United-States   >50K  "
            ],
            "text/html": [
              "\n",
              "  <div id=\"df-44cd6528-27c8-46b4-a94f-1edaf84bc20c\">\n",
              "    <div class=\"colab-df-container\">\n",
              "      <div>\n",
              "<style scoped>\n",
              "    .dataframe tbody tr th:only-of-type {\n",
              "        vertical-align: middle;\n",
              "    }\n",
              "\n",
              "    .dataframe tbody tr th {\n",
              "        vertical-align: top;\n",
              "    }\n",
              "\n",
              "    .dataframe thead th {\n",
              "        text-align: right;\n",
              "    }\n",
              "</style>\n",
              "<table border=\"1\" class=\"dataframe\">\n",
              "  <thead>\n",
              "    <tr style=\"text-align: right;\">\n",
              "      <th></th>\n",
              "      <th>age</th>\n",
              "      <th>workclass</th>\n",
              "      <th>fnlwgt</th>\n",
              "      <th>education</th>\n",
              "      <th>education-num</th>\n",
              "      <th>marital-status</th>\n",
              "      <th>occupation</th>\n",
              "      <th>relationship</th>\n",
              "      <th>race</th>\n",
              "      <th>sex</th>\n",
              "      <th>capital-gain</th>\n",
              "      <th>capital-loss</th>\n",
              "      <th>hours-per-week</th>\n",
              "      <th>native-country</th>\n",
              "      <th>salary</th>\n",
              "    </tr>\n",
              "  </thead>\n",
              "  <tbody>\n",
              "    <tr>\n",
              "      <th>2</th>\n",
              "      <td>38</td>\n",
              "      <td>Private</td>\n",
              "      <td>215646</td>\n",
              "      <td>HS-grad</td>\n",
              "      <td>9</td>\n",
              "      <td>Divorced</td>\n",
              "      <td>Handlers-cleaners</td>\n",
              "      <td>Not-in-family</td>\n",
              "      <td>White</td>\n",
              "      <td>Male</td>\n",
              "      <td>0</td>\n",
              "      <td>0</td>\n",
              "      <td>40</td>\n",
              "      <td>United-States</td>\n",
              "      <td>&lt;=50K</td>\n",
              "    </tr>\n",
              "    <tr>\n",
              "      <th>3</th>\n",
              "      <td>53</td>\n",
              "      <td>Private</td>\n",
              "      <td>234721</td>\n",
              "      <td>11th</td>\n",
              "      <td>7</td>\n",
              "      <td>Married-civ-spouse</td>\n",
              "      <td>Handlers-cleaners</td>\n",
              "      <td>Husband</td>\n",
              "      <td>Black</td>\n",
              "      <td>Male</td>\n",
              "      <td>0</td>\n",
              "      <td>0</td>\n",
              "      <td>40</td>\n",
              "      <td>United-States</td>\n",
              "      <td>&lt;=50K</td>\n",
              "    </tr>\n",
              "    <tr>\n",
              "      <th>6</th>\n",
              "      <td>49</td>\n",
              "      <td>Private</td>\n",
              "      <td>160187</td>\n",
              "      <td>9th</td>\n",
              "      <td>5</td>\n",
              "      <td>Married-spouse-absent</td>\n",
              "      <td>Other-service</td>\n",
              "      <td>Not-in-family</td>\n",
              "      <td>Black</td>\n",
              "      <td>Female</td>\n",
              "      <td>0</td>\n",
              "      <td>0</td>\n",
              "      <td>16</td>\n",
              "      <td>Jamaica</td>\n",
              "      <td>&lt;=50K</td>\n",
              "    </tr>\n",
              "    <tr>\n",
              "      <th>7</th>\n",
              "      <td>52</td>\n",
              "      <td>Self-emp-not-inc</td>\n",
              "      <td>209642</td>\n",
              "      <td>HS-grad</td>\n",
              "      <td>9</td>\n",
              "      <td>Married-civ-spouse</td>\n",
              "      <td>Exec-managerial</td>\n",
              "      <td>Husband</td>\n",
              "      <td>White</td>\n",
              "      <td>Male</td>\n",
              "      <td>0</td>\n",
              "      <td>0</td>\n",
              "      <td>45</td>\n",
              "      <td>United-States</td>\n",
              "      <td>&gt;50K</td>\n",
              "    </tr>\n",
              "    <tr>\n",
              "      <th>10</th>\n",
              "      <td>37</td>\n",
              "      <td>Private</td>\n",
              "      <td>280464</td>\n",
              "      <td>Some-college</td>\n",
              "      <td>10</td>\n",
              "      <td>Married-civ-spouse</td>\n",
              "      <td>Exec-managerial</td>\n",
              "      <td>Husband</td>\n",
              "      <td>Black</td>\n",
              "      <td>Male</td>\n",
              "      <td>0</td>\n",
              "      <td>0</td>\n",
              "      <td>80</td>\n",
              "      <td>United-States</td>\n",
              "      <td>&gt;50K</td>\n",
              "    </tr>\n",
              "  </tbody>\n",
              "</table>\n",
              "</div>\n",
              "      <button class=\"colab-df-convert\" onclick=\"convertToInteractive('df-44cd6528-27c8-46b4-a94f-1edaf84bc20c')\"\n",
              "              title=\"Convert this dataframe to an interactive table.\"\n",
              "              style=\"display:none;\">\n",
              "        \n",
              "  <svg xmlns=\"http://www.w3.org/2000/svg\" height=\"24px\"viewBox=\"0 0 24 24\"\n",
              "       width=\"24px\">\n",
              "    <path d=\"M0 0h24v24H0V0z\" fill=\"none\"/>\n",
              "    <path d=\"M18.56 5.44l.94 2.06.94-2.06 2.06-.94-2.06-.94-.94-2.06-.94 2.06-2.06.94zm-11 1L8.5 8.5l.94-2.06 2.06-.94-2.06-.94L8.5 2.5l-.94 2.06-2.06.94zm10 10l.94 2.06.94-2.06 2.06-.94-2.06-.94-.94-2.06-.94 2.06-2.06.94z\"/><path d=\"M17.41 7.96l-1.37-1.37c-.4-.4-.92-.59-1.43-.59-.52 0-1.04.2-1.43.59L10.3 9.45l-7.72 7.72c-.78.78-.78 2.05 0 2.83L4 21.41c.39.39.9.59 1.41.59.51 0 1.02-.2 1.41-.59l7.78-7.78 2.81-2.81c.8-.78.8-2.07 0-2.86zM5.41 20L4 18.59l7.72-7.72 1.47 1.35L5.41 20z\"/>\n",
              "  </svg>\n",
              "      </button>\n",
              "      \n",
              "  <style>\n",
              "    .colab-df-container {\n",
              "      display:flex;\n",
              "      flex-wrap:wrap;\n",
              "      gap: 12px;\n",
              "    }\n",
              "\n",
              "    .colab-df-convert {\n",
              "      background-color: #E8F0FE;\n",
              "      border: none;\n",
              "      border-radius: 50%;\n",
              "      cursor: pointer;\n",
              "      display: none;\n",
              "      fill: #1967D2;\n",
              "      height: 32px;\n",
              "      padding: 0 0 0 0;\n",
              "      width: 32px;\n",
              "    }\n",
              "\n",
              "    .colab-df-convert:hover {\n",
              "      background-color: #E2EBFA;\n",
              "      box-shadow: 0px 1px 2px rgba(60, 64, 67, 0.3), 0px 1px 3px 1px rgba(60, 64, 67, 0.15);\n",
              "      fill: #174EA6;\n",
              "    }\n",
              "\n",
              "    [theme=dark] .colab-df-convert {\n",
              "      background-color: #3B4455;\n",
              "      fill: #D2E3FC;\n",
              "    }\n",
              "\n",
              "    [theme=dark] .colab-df-convert:hover {\n",
              "      background-color: #434B5C;\n",
              "      box-shadow: 0px 1px 3px 1px rgba(0, 0, 0, 0.15);\n",
              "      filter: drop-shadow(0px 1px 2px rgba(0, 0, 0, 0.3));\n",
              "      fill: #FFFFFF;\n",
              "    }\n",
              "  </style>\n",
              "\n",
              "      <script>\n",
              "        const buttonEl =\n",
              "          document.querySelector('#df-44cd6528-27c8-46b4-a94f-1edaf84bc20c button.colab-df-convert');\n",
              "        buttonEl.style.display =\n",
              "          google.colab.kernel.accessAllowed ? 'block' : 'none';\n",
              "\n",
              "        async function convertToInteractive(key) {\n",
              "          const element = document.querySelector('#df-44cd6528-27c8-46b4-a94f-1edaf84bc20c');\n",
              "          const dataTable =\n",
              "            await google.colab.kernel.invokeFunction('convertToInteractive',\n",
              "                                                     [key], {});\n",
              "          if (!dataTable) return;\n",
              "\n",
              "          const docLinkHtml = 'Like what you see? Visit the ' +\n",
              "            '<a target=\"_blank\" href=https://colab.research.google.com/notebooks/data_table.ipynb>data table notebook</a>'\n",
              "            + ' to learn more about interactive tables.';\n",
              "          element.innerHTML = '';\n",
              "          dataTable['output_type'] = 'display_data';\n",
              "          await google.colab.output.renderOutput(dataTable, element);\n",
              "          const docLink = document.createElement('div');\n",
              "          docLink.innerHTML = docLinkHtml;\n",
              "          element.appendChild(docLink);\n",
              "        }\n",
              "      </script>\n",
              "    </div>\n",
              "  </div>\n",
              "  "
            ]
          },
          "metadata": {},
          "execution_count": 29
        }
      ]
    },
    {
      "cell_type": "code",
      "source": [
        "lower_edu['education'].value_counts()"
      ],
      "metadata": {
        "colab": {
          "base_uri": "https://localhost:8080/"
        },
        "id": "TMoOTRc8FVxR",
        "outputId": "fbd98c45-e375-4b5a-c31c-9c0eb32c7481"
      },
      "execution_count": 30,
      "outputs": [
        {
          "output_type": "execute_result",
          "data": {
            "text/plain": [
              "HS-grad         10501\n",
              "Some-college     7291\n",
              "Assoc-voc        1382\n",
              "11th             1175\n",
              "Assoc-acdm       1067\n",
              "10th              933\n",
              "7th-8th           646\n",
              "Prof-school       576\n",
              "9th               514\n",
              "12th              433\n",
              "5th-6th           333\n",
              "1st-4th           168\n",
              "Preschool          51\n",
              "Name: education, dtype: int64"
            ]
          },
          "metadata": {},
          "execution_count": 30
        }
      ]
    },
    {
      "cell_type": "code",
      "source": [
        "e = sum(lower_edu['education'].value_counts())\n",
        "print(e)"
      ],
      "metadata": {
        "colab": {
          "base_uri": "https://localhost:8080/"
        },
        "id": "buc_b5DqFVkU",
        "outputId": "11fb9beb-6fe5-4d58-af13-41d5391c6dbb"
      },
      "execution_count": 31,
      "outputs": [
        {
          "output_type": "stream",
          "name": "stdout",
          "text": [
            "25070\n"
          ]
        }
      ]
    },
    {
      "cell_type": "code",
      "source": [
        "lower_edu_percent = round((sum(lower_edu['education'].value_counts()) / sum(df['education'].value_counts())) * 100, 1)\n",
        "\n",
        "print(lower_edu_percent)"
      ],
      "metadata": {
        "colab": {
          "base_uri": "https://localhost:8080/"
        },
        "id": "vBeSTd6TLGZd",
        "outputId": "06fdadd4-5f2d-4b9c-9b96-5224e18ecae7"
      },
      "execution_count": 32,
      "outputs": [
        {
          "output_type": "stream",
          "name": "stdout",
          "text": [
            "77.0\n"
          ]
        }
      ]
    },
    {
      "cell_type": "markdown",
      "source": [
        "- **What percentage of people with advanced education (`Bachelors`, `Masters`, or `Doctorate`) make more than 50K?**"
      ],
      "metadata": {
        "id": "BNVlfKK3K-2h"
      }
    },
    {
      "cell_type": "code",
      "source": [
        "df2 = pd.read_csv('adult.data.csv', usecols=['education','salary'])\n",
        "print(df2)"
      ],
      "metadata": {
        "colab": {
          "base_uri": "https://localhost:8080/"
        },
        "id": "l9EGZY_4abM8",
        "outputId": "c2698f81-d876-4fc5-f680-988600f4accb"
      },
      "execution_count": 33,
      "outputs": [
        {
          "output_type": "stream",
          "name": "stdout",
          "text": [
            "        education salary\n",
            "0       Bachelors  <=50K\n",
            "1       Bachelors  <=50K\n",
            "2         HS-grad  <=50K\n",
            "3            11th  <=50K\n",
            "4       Bachelors  <=50K\n",
            "...           ...    ...\n",
            "32556  Assoc-acdm  <=50K\n",
            "32557     HS-grad   >50K\n",
            "32558     HS-grad  <=50K\n",
            "32559     HS-grad  <=50K\n",
            "32560     HS-grad   >50K\n",
            "\n",
            "[32561 rows x 2 columns]\n"
          ]
        }
      ]
    },
    {
      "cell_type": "code",
      "source": [
        "df2.value_counts()"
      ],
      "metadata": {
        "colab": {
          "base_uri": "https://localhost:8080/"
        },
        "id": "3cQk2W281vbn",
        "outputId": "268b8018-5a15-47aa-f693-867beaf7a330"
      },
      "execution_count": 34,
      "outputs": [
        {
          "output_type": "execute_result",
          "data": {
            "text/plain": [
              "education     salary\n",
              "HS-grad       <=50K     8826\n",
              "Some-college  <=50K     5904\n",
              "Bachelors     <=50K     3134\n",
              "              >50K      2221\n",
              "HS-grad       >50K      1675\n",
              "Some-college  >50K      1387\n",
              "11th          <=50K     1115\n",
              "Assoc-voc     <=50K     1021\n",
              "Masters       >50K       959\n",
              "10th          <=50K      871\n",
              "Assoc-acdm    <=50K      802\n",
              "Masters       <=50K      764\n",
              "7th-8th       <=50K      606\n",
              "9th           <=50K      487\n",
              "Prof-school   >50K       423\n",
              "12th          <=50K      400\n",
              "Assoc-voc     >50K       361\n",
              "5th-6th       <=50K      317\n",
              "Doctorate     >50K       306\n",
              "Assoc-acdm    >50K       265\n",
              "1st-4th       <=50K      162\n",
              "Prof-school   <=50K      153\n",
              "Doctorate     <=50K      107\n",
              "10th          >50K        62\n",
              "11th          >50K        60\n",
              "Preschool     <=50K       51\n",
              "7th-8th       >50K        40\n",
              "12th          >50K        33\n",
              "9th           >50K        27\n",
              "5th-6th       >50K        16\n",
              "1st-4th       >50K         6\n",
              "dtype: int64"
            ]
          },
          "metadata": {},
          "execution_count": 34
        }
      ]
    },
    {
      "cell_type": "code",
      "source": [
        "c = sum(higher_edu.value_counts())"
      ],
      "metadata": {
        "id": "RSy9Fqyj2KBK"
      },
      "execution_count": 35,
      "outputs": []
    },
    {
      "cell_type": "code",
      "source": [
        "higher_edu_rich = df[df['education'].isin(['Bachelors', 'Masters', 'Doctorate']) & df['salary'].str.contains('>50K')]\n",
        "\n",
        "print(higher_edu_rich)"
      ],
      "metadata": {
        "colab": {
          "base_uri": "https://localhost:8080/"
        },
        "id": "SV_dh7XUQ_dD",
        "outputId": "333bb5e4-6888-4be8-d4bf-2c196bdc2c6f"
      },
      "execution_count": 36,
      "outputs": [
        {
          "output_type": "stream",
          "name": "stdout",
          "text": [
            "       age         workclass  fnlwgt  education  education-num  \\\n",
            "8       31           Private   45781    Masters             14   \n",
            "9       42           Private  159449  Bachelors             13   \n",
            "11      30         State-gov  141297  Bachelors             13   \n",
            "19      43  Self-emp-not-inc  292175    Masters             14   \n",
            "20      40           Private  193524  Doctorate             16   \n",
            "...    ...               ...     ...        ...            ...   \n",
            "32533   54           Private  337992  Bachelors             13   \n",
            "32536   34           Private  160216  Bachelors             13   \n",
            "32538   38           Private  139180  Bachelors             13   \n",
            "32539   71                 ?  287372  Doctorate             16   \n",
            "32554   53           Private  321865    Masters             14   \n",
            "\n",
            "           marital-status       occupation   relationship                race  \\\n",
            "8           Never-married   Prof-specialty  Not-in-family               White   \n",
            "9      Married-civ-spouse  Exec-managerial        Husband               White   \n",
            "11     Married-civ-spouse   Prof-specialty        Husband  Asian-Pac-Islander   \n",
            "19               Divorced  Exec-managerial      Unmarried               White   \n",
            "20     Married-civ-spouse   Prof-specialty        Husband               White   \n",
            "...                   ...              ...            ...                 ...   \n",
            "32533  Married-civ-spouse  Exec-managerial        Husband  Asian-Pac-Islander   \n",
            "32536       Never-married  Exec-managerial  Not-in-family               White   \n",
            "32538            Divorced   Prof-specialty      Unmarried               Black   \n",
            "32539  Married-civ-spouse                ?        Husband               White   \n",
            "32554  Married-civ-spouse  Exec-managerial        Husband               White   \n",
            "\n",
            "          sex  capital-gain  capital-loss  hours-per-week native-country  \\\n",
            "8      Female         14084             0              50  United-States   \n",
            "9        Male          5178             0              40  United-States   \n",
            "11       Male             0             0              40          India   \n",
            "19     Female             0             0              45  United-States   \n",
            "20       Male             0             0              60  United-States   \n",
            "...       ...           ...           ...             ...            ...   \n",
            "32533    Male             0             0              50          Japan   \n",
            "32536  Female             0             0              55  United-States   \n",
            "32538  Female         15020             0              45  United-States   \n",
            "32539    Male             0             0              10  United-States   \n",
            "32554    Male             0             0              40  United-States   \n",
            "\n",
            "      salary  \n",
            "8       >50K  \n",
            "9       >50K  \n",
            "11      >50K  \n",
            "19      >50K  \n",
            "20      >50K  \n",
            "...      ...  \n",
            "32533   >50K  \n",
            "32536   >50K  \n",
            "32538   >50K  \n",
            "32539   >50K  \n",
            "32554   >50K  \n",
            "\n",
            "[3486 rows x 15 columns]\n"
          ]
        }
      ]
    },
    {
      "cell_type": "code",
      "source": [
        "d = sum(higher_edu_rich.value_counts())"
      ],
      "metadata": {
        "id": "XWXuGr2qTkv2"
      },
      "execution_count": 37,
      "outputs": []
    },
    {
      "cell_type": "code",
      "source": [
        "print(round((d / c) * 100, 1))"
      ],
      "metadata": {
        "colab": {
          "base_uri": "https://localhost:8080/"
        },
        "id": "oLeyqztjTxuo",
        "outputId": "d7500458-6ecc-4fa4-b9c6-5fe9b873032d"
      },
      "execution_count": 38,
      "outputs": [
        {
          "output_type": "stream",
          "name": "stdout",
          "text": [
            "46.5\n"
          ]
        }
      ]
    },
    {
      "cell_type": "markdown",
      "source": [
        "- **What percentage of people without advanced education (`Bachelors`, `Masters`, or `Doctorate`) make more than 50K?**"
      ],
      "metadata": {
        "id": "p3b5P56UYFMU"
      }
    },
    {
      "cell_type": "code",
      "source": [
        "lower_edu_rich = df[~df['education'].isin(['Bachelors', 'Masters', 'Doctorate']) & df['salary'].str.contains('>50K')]\n",
        "print(lower_edu_rich)"
      ],
      "metadata": {
        "colab": {
          "base_uri": "https://localhost:8080/"
        },
        "id": "t79_8A6bUmdo",
        "outputId": "8c41bde4-a52f-4d7f-e05b-19087f0b44a0"
      },
      "execution_count": 39,
      "outputs": [
        {
          "output_type": "stream",
          "name": "stdout",
          "text": [
            "       age         workclass  fnlwgt     education  education-num  \\\n",
            "7       52  Self-emp-not-inc  209642       HS-grad              9   \n",
            "10      37           Private  280464  Some-college             10   \n",
            "14      40           Private  121772     Assoc-voc             11   \n",
            "27      54                 ?  180211  Some-college             10   \n",
            "38      31           Private   84154  Some-college             10   \n",
            "...    ...               ...     ...           ...            ...   \n",
            "32518   57         Local-gov  110417       HS-grad              9   \n",
            "32519   46           Private  364548  Some-college             10   \n",
            "32545   39         Local-gov  111499    Assoc-acdm             12   \n",
            "32557   40           Private  154374       HS-grad              9   \n",
            "32560   52      Self-emp-inc  287927       HS-grad              9   \n",
            "\n",
            "           marital-status         occupation relationship                race  \\\n",
            "7      Married-civ-spouse    Exec-managerial      Husband               White   \n",
            "10     Married-civ-spouse    Exec-managerial      Husband               Black   \n",
            "14     Married-civ-spouse       Craft-repair      Husband  Asian-Pac-Islander   \n",
            "27     Married-civ-spouse                  ?      Husband  Asian-Pac-Islander   \n",
            "38     Married-civ-spouse              Sales      Husband               White   \n",
            "...                   ...                ...          ...                 ...   \n",
            "32518  Married-civ-spouse       Craft-repair      Husband               White   \n",
            "32519  Married-civ-spouse    Exec-managerial      Husband               White   \n",
            "32545  Married-civ-spouse       Adm-clerical         Wife               White   \n",
            "32557  Married-civ-spouse  Machine-op-inspct      Husband               White   \n",
            "32560  Married-civ-spouse    Exec-managerial         Wife               White   \n",
            "\n",
            "          sex  capital-gain  capital-loss  hours-per-week native-country  \\\n",
            "7        Male             0             0              45  United-States   \n",
            "10       Male             0             0              80  United-States   \n",
            "14       Male             0             0              40              ?   \n",
            "27       Male             0             0              60          South   \n",
            "38       Male             0             0              38              ?   \n",
            "...       ...           ...           ...             ...            ...   \n",
            "32518    Male         99999             0              40  United-States   \n",
            "32519    Male             0             0              48  United-States   \n",
            "32545  Female             0             0              20  United-States   \n",
            "32557    Male             0             0              40  United-States   \n",
            "32560  Female         15024             0              40  United-States   \n",
            "\n",
            "      salary  \n",
            "7       >50K  \n",
            "10      >50K  \n",
            "14      >50K  \n",
            "27      >50K  \n",
            "38      >50K  \n",
            "...      ...  \n",
            "32518   >50K  \n",
            "32519   >50K  \n",
            "32545   >50K  \n",
            "32557   >50K  \n",
            "32560   >50K  \n",
            "\n",
            "[4355 rows x 15 columns]\n"
          ]
        }
      ]
    },
    {
      "cell_type": "code",
      "source": [
        "f = sum(lower_edu_rich.value_counts())\n",
        "print(f)"
      ],
      "metadata": {
        "colab": {
          "base_uri": "https://localhost:8080/"
        },
        "id": "0_EC_QKMVs21",
        "outputId": "829e8a3d-c37a-40fd-8ae4-a465f69f9e3e"
      },
      "execution_count": 40,
      "outputs": [
        {
          "output_type": "stream",
          "name": "stdout",
          "text": [
            "4355\n"
          ]
        }
      ]
    },
    {
      "cell_type": "code",
      "source": [
        "print(round((f / e) * 100, 1))"
      ],
      "metadata": {
        "colab": {
          "base_uri": "https://localhost:8080/"
        },
        "id": "-sSs5KcvWAFD",
        "outputId": "dbfbbbb1-9fc4-4696-bb83-f5f101cb8ea9"
      },
      "execution_count": 41,
      "outputs": [
        {
          "output_type": "stream",
          "name": "stdout",
          "text": [
            "17.4\n"
          ]
        }
      ]
    },
    {
      "cell_type": "markdown",
      "source": [
        "- **What is the minimum number of hours a person works per week (hours-per-week feature)?**"
      ],
      "metadata": {
        "id": "dn1TWDjAYdNk"
      }
    },
    {
      "cell_type": "code",
      "source": [
        "df.info()"
      ],
      "metadata": {
        "colab": {
          "base_uri": "https://localhost:8080/"
        },
        "id": "NAQBofoYYUuF",
        "outputId": "8eda0d27-b7c9-4b47-a70e-c4cb2496e5c3"
      },
      "execution_count": 42,
      "outputs": [
        {
          "output_type": "stream",
          "name": "stdout",
          "text": [
            "<class 'pandas.core.frame.DataFrame'>\n",
            "RangeIndex: 32561 entries, 0 to 32560\n",
            "Data columns (total 15 columns):\n",
            " #   Column          Non-Null Count  Dtype \n",
            "---  ------          --------------  ----- \n",
            " 0   age             32561 non-null  int64 \n",
            " 1   workclass       32561 non-null  object\n",
            " 2   fnlwgt          32561 non-null  int64 \n",
            " 3   education       32561 non-null  object\n",
            " 4   education-num   32561 non-null  int64 \n",
            " 5   marital-status  32561 non-null  object\n",
            " 6   occupation      32561 non-null  object\n",
            " 7   relationship    32561 non-null  object\n",
            " 8   race            32561 non-null  object\n",
            " 9   sex             32561 non-null  object\n",
            " 10  capital-gain    32561 non-null  int64 \n",
            " 11  capital-loss    32561 non-null  int64 \n",
            " 12  hours-per-week  32561 non-null  int64 \n",
            " 13  native-country  32561 non-null  object\n",
            " 14  salary          32561 non-null  object\n",
            "dtypes: int64(6), object(9)\n",
            "memory usage: 3.7+ MB\n"
          ]
        }
      ]
    },
    {
      "cell_type": "code",
      "source": [
        "min(df[['hours-per-week']].value_counts())"
      ],
      "metadata": {
        "colab": {
          "base_uri": "https://localhost:8080/"
        },
        "id": "O-QJ9bvIZPsW",
        "outputId": "e6f6fe0a-9f17-4f53-954b-4e61cfe835c6"
      },
      "execution_count": 43,
      "outputs": [
        {
          "output_type": "execute_result",
          "data": {
            "text/plain": [
              "1"
            ]
          },
          "metadata": {},
          "execution_count": 43
        }
      ]
    },
    {
      "cell_type": "markdown",
      "source": [
        "- **What percentage of the people who work the minimum number of hours per week have a salary of >50K?**"
      ],
      "metadata": {
        "id": "hIvxLyioaQfU"
      }
    },
    {
      "cell_type": "code",
      "source": [
        "df3 = pd.read_csv('adult.data.csv', usecols=['hours-per-week','salary'])\n",
        "print(df3)"
      ],
      "metadata": {
        "colab": {
          "base_uri": "https://localhost:8080/"
        },
        "id": "ZX9KQJgbaPec",
        "outputId": "ac35fd5c-337a-432c-e359-a3ff1ff5da43"
      },
      "execution_count": 44,
      "outputs": [
        {
          "output_type": "stream",
          "name": "stdout",
          "text": [
            "       hours-per-week salary\n",
            "0                  40  <=50K\n",
            "1                  13  <=50K\n",
            "2                  40  <=50K\n",
            "3                  40  <=50K\n",
            "4                  40  <=50K\n",
            "...               ...    ...\n",
            "32556              38  <=50K\n",
            "32557              40   >50K\n",
            "32558              40  <=50K\n",
            "32559              20  <=50K\n",
            "32560              40   >50K\n",
            "\n",
            "[32561 rows x 2 columns]\n"
          ]
        }
      ]
    },
    {
      "cell_type": "code",
      "source": [
        "min(df[['hours-per-week']].value_counts())"
      ],
      "metadata": {
        "colab": {
          "base_uri": "https://localhost:8080/"
        },
        "id": "QqZ6G5tLeD9N",
        "outputId": "8ebd9cfd-bb05-4dde-dc93-512148ae203c"
      },
      "execution_count": 45,
      "outputs": [
        {
          "output_type": "execute_result",
          "data": {
            "text/plain": [
              "1"
            ]
          },
          "metadata": {},
          "execution_count": 45
        }
      ]
    },
    {
      "cell_type": "code",
      "source": [
        "rich = df[df['hours-per-week'].isin([1]) & df['salary'].str.contains('>50K')]\n",
        "print(rich)"
      ],
      "metadata": {
        "colab": {
          "base_uri": "https://localhost:8080/"
        },
        "id": "TXEZVl3neZQL",
        "outputId": "50d13609-06da-453a-ec00-ff18075a836d"
      },
      "execution_count": 46,
      "outputs": [
        {
          "output_type": "stream",
          "name": "stdout",
          "text": [
            "       age  workclass  fnlwgt  education  education-num      marital-status  \\\n",
            "189     58  State-gov  109567  Doctorate             16  Married-civ-spouse   \n",
            "20072   65          ?   76043    HS-grad              9  Married-civ-spouse   \n",
            "\n",
            "           occupation relationship   race   sex  capital-gain  capital-loss  \\\n",
            "189    Prof-specialty      Husband  White  Male             0             0   \n",
            "20072               ?      Husband  White  Male             0             0   \n",
            "\n",
            "       hours-per-week native-country salary  \n",
            "189                 1  United-States   >50K  \n",
            "20072               1  United-States   >50K  \n"
          ]
        }
      ]
    },
    {
      "cell_type": "code",
      "source": [
        "g = sum(rich.value_counts())"
      ],
      "metadata": {
        "id": "YX-f99jyhBQp"
      },
      "execution_count": 47,
      "outputs": []
    },
    {
      "cell_type": "code",
      "source": [
        "vary_salary = df[df['hours-per-week'].isin([1]) & df['salary']]\n",
        "print(vary_salary)"
      ],
      "metadata": {
        "colab": {
          "base_uri": "https://localhost:8080/"
        },
        "id": "4dQPY0ERhm4l",
        "outputId": "c7e2350d-444c-46ce-b1e4-3024b66f82c6"
      },
      "execution_count": 48,
      "outputs": [
        {
          "output_type": "stream",
          "name": "stdout",
          "text": [
            "       age         workclass  fnlwgt     education  education-num  \\\n",
            "189     58         State-gov  109567     Doctorate             16   \n",
            "1036    66      Self-emp-inc  150726           9th              5   \n",
            "1262    69                 ?  195779     Assoc-voc             11   \n",
            "5590    78                 ?  363134       HS-grad              9   \n",
            "5632    45                 ?  189564       Masters             14   \n",
            "5766    62                 ?   97231  Some-college             10   \n",
            "5808    76                 ?  211574          10th              6   \n",
            "8447    67                 ?  244122     Assoc-voc             11   \n",
            "9147    75                 ?  260543          10th              6   \n",
            "11451   27           Private  147951       HS-grad              9   \n",
            "19337   72                 ?   76860       HS-grad              9   \n",
            "19750   23           Private   72887       HS-grad              9   \n",
            "20072   65                 ?   76043       HS-grad              9   \n",
            "20909   77  Self-emp-not-inc   71676  Some-college             10   \n",
            "22960   21           Private  184135       HS-grad              9   \n",
            "23536   69                 ?  320280  Some-college             10   \n",
            "24284   57  Self-emp-not-inc   56480       HS-grad              9   \n",
            "25078   74           Private  260669          10th              6   \n",
            "29752   69                 ?  117525    Assoc-acdm             12   \n",
            "32525   81                 ?  120478     Assoc-voc             11   \n",
            "\n",
            "           marital-status         occupation    relationship  \\\n",
            "189    Married-civ-spouse     Prof-specialty         Husband   \n",
            "1036   Married-civ-spouse    Exec-managerial         Husband   \n",
            "1262              Widowed                  ?   Not-in-family   \n",
            "5590              Widowed                  ?   Not-in-family   \n",
            "5632   Married-civ-spouse                  ?            Wife   \n",
            "5766   Married-civ-spouse                  ?            Wife   \n",
            "5808   Married-civ-spouse                  ?         Husband   \n",
            "8447              Widowed                  ?   Not-in-family   \n",
            "9147              Widowed                  ?  Other-relative   \n",
            "11451       Never-married  Machine-op-inspct  Other-relative   \n",
            "19337  Married-civ-spouse                  ?         Husband   \n",
            "19750       Never-married       Craft-repair       Own-child   \n",
            "20072  Married-civ-spouse                  ?         Husband   \n",
            "20909             Widowed       Adm-clerical   Not-in-family   \n",
            "22960       Never-married  Machine-op-inspct       Own-child   \n",
            "23536       Never-married                  ?   Not-in-family   \n",
            "24284  Married-civ-spouse    Exec-managerial         Husband   \n",
            "25078            Divorced      Other-service   Not-in-family   \n",
            "29752            Divorced                  ?       Unmarried   \n",
            "32525            Divorced                  ?       Unmarried   \n",
            "\n",
            "                     race     sex  capital-gain  capital-loss  hours-per-week  \\\n",
            "189                 White    Male             0             0               1   \n",
            "1036                White    Male          1409             0               1   \n",
            "1262                White  Female             0             0               1   \n",
            "5590                White  Female             0             0               1   \n",
            "5632                White  Female             0             0               1   \n",
            "5766                White  Female             0             0               1   \n",
            "5808                White    Male             0             0               1   \n",
            "8447                White  Female             0             0               1   \n",
            "9147   Asian-Pac-Islander  Female             0             0               1   \n",
            "11451               White    Male             0             0               1   \n",
            "19337  Asian-Pac-Islander    Male             0             0               1   \n",
            "19750  Asian-Pac-Islander    Male             0             0               1   \n",
            "20072               White    Male             0             0               1   \n",
            "20909               White  Female             0          1944               1   \n",
            "22960               Black    Male             0             0               1   \n",
            "23536               White    Male          1848             0               1   \n",
            "24284               White    Male             0             0               1   \n",
            "25078               White  Female             0             0               1   \n",
            "29752               White  Female             0             0               1   \n",
            "32525               White  Female             0             0               1   \n",
            "\n",
            "      native-country salary  \n",
            "189    United-States   >50K  \n",
            "1036               ?  <=50K  \n",
            "1262   United-States  <=50K  \n",
            "5590   United-States  <=50K  \n",
            "5632   United-States  <=50K  \n",
            "5766   United-States  <=50K  \n",
            "5808   United-States  <=50K  \n",
            "8447   United-States  <=50K  \n",
            "9147           China  <=50K  \n",
            "11451  United-States  <=50K  \n",
            "19337  United-States  <=50K  \n",
            "19750        Vietnam  <=50K  \n",
            "20072  United-States   >50K  \n",
            "20909  United-States  <=50K  \n",
            "22960  United-States  <=50K  \n",
            "23536  United-States  <=50K  \n",
            "24284  United-States  <=50K  \n",
            "25078  United-States  <=50K  \n",
            "29752  United-States  <=50K  \n",
            "32525              ?  <=50K  \n"
          ]
        }
      ]
    },
    {
      "cell_type": "code",
      "source": [
        "h = sum(vary_salary.value_counts())"
      ],
      "metadata": {
        "id": "rzdSgYp3h4Cq"
      },
      "execution_count": 49,
      "outputs": []
    },
    {
      "cell_type": "code",
      "source": [
        "print(round((g / h) * 100, 1))"
      ],
      "metadata": {
        "colab": {
          "base_uri": "https://localhost:8080/"
        },
        "id": "cktNfB80iG4A",
        "outputId": "d4574816-7e0f-4656-b78b-429e499df19e"
      },
      "execution_count": 50,
      "outputs": [
        {
          "output_type": "stream",
          "name": "stdout",
          "text": [
            "10.0\n"
          ]
        }
      ]
    },
    {
      "cell_type": "markdown",
      "source": [
        "- **What country has the highest percentage of people that earn >50K?**"
      ],
      "metadata": {
        "id": "aRWC7h1RiSdR"
      }
    },
    {
      "cell_type": "code",
      "source": [
        "df4 = pd.read_csv('adult.data.csv', usecols=['native-country','salary'])\n",
        "print(df4)"
      ],
      "metadata": {
        "colab": {
          "base_uri": "https://localhost:8080/"
        },
        "id": "GElyy56kiUZt",
        "outputId": "7e53dac8-0f32-4dc6-d356-2974654dfb64"
      },
      "execution_count": 51,
      "outputs": [
        {
          "output_type": "stream",
          "name": "stdout",
          "text": [
            "      native-country salary\n",
            "0      United-States  <=50K\n",
            "1      United-States  <=50K\n",
            "2      United-States  <=50K\n",
            "3      United-States  <=50K\n",
            "4               Cuba  <=50K\n",
            "...              ...    ...\n",
            "32556  United-States  <=50K\n",
            "32557  United-States   >50K\n",
            "32558  United-States  <=50K\n",
            "32559  United-States  <=50K\n",
            "32560  United-States   >50K\n",
            "\n",
            "[32561 rows x 2 columns]\n"
          ]
        }
      ]
    },
    {
      "cell_type": "code",
      "source": [
        "no_null = df4.drop(df4.index[(df4['native-country'] == '?')],axis=0)\n",
        "print(no_null)\n",
        "print(type(no_null))"
      ],
      "metadata": {
        "colab": {
          "base_uri": "https://localhost:8080/"
        },
        "id": "uABeJEVfkO0G",
        "outputId": "fc73d4a8-45b7-4b49-9120-03dd88eea7e7"
      },
      "execution_count": 52,
      "outputs": [
        {
          "output_type": "stream",
          "name": "stdout",
          "text": [
            "      native-country salary\n",
            "0      United-States  <=50K\n",
            "1      United-States  <=50K\n",
            "2      United-States  <=50K\n",
            "3      United-States  <=50K\n",
            "4               Cuba  <=50K\n",
            "...              ...    ...\n",
            "32556  United-States  <=50K\n",
            "32557  United-States   >50K\n",
            "32558  United-States  <=50K\n",
            "32559  United-States  <=50K\n",
            "32560  United-States   >50K\n",
            "\n",
            "[31978 rows x 2 columns]\n",
            "<class 'pandas.core.frame.DataFrame'>\n"
          ]
        }
      ]
    },
    {
      "cell_type": "code",
      "source": [
        "highest_earn_country = no_null[no_null['salary'].isin(['>50K']) & no_null['native-country']]\n",
        "print(highest_earn_country)"
      ],
      "metadata": {
        "colab": {
          "base_uri": "https://localhost:8080/"
        },
        "id": "JRUhN7mkiwTI",
        "outputId": "30ed54ec-94fb-4d24-b474-3dfa5eeda19a"
      },
      "execution_count": 53,
      "outputs": [
        {
          "output_type": "stream",
          "name": "stdout",
          "text": [
            "      native-country salary\n",
            "7      United-States   >50K\n",
            "8      United-States   >50K\n",
            "9      United-States   >50K\n",
            "10     United-States   >50K\n",
            "11             India   >50K\n",
            "...              ...    ...\n",
            "32539  United-States   >50K\n",
            "32545  United-States   >50K\n",
            "32554  United-States   >50K\n",
            "32557  United-States   >50K\n",
            "32560  United-States   >50K\n",
            "\n",
            "[7695 rows x 2 columns]\n"
          ]
        }
      ]
    },
    {
      "cell_type": "code",
      "source": [
        "highest_earn_country['native-country'].value_counts()"
      ],
      "metadata": {
        "colab": {
          "base_uri": "https://localhost:8080/"
        },
        "id": "EtoiHf0VjnAt",
        "outputId": "ddcdcb49-43b0-4810-8417-57acd6b7d938"
      },
      "execution_count": 54,
      "outputs": [
        {
          "output_type": "execute_result",
          "data": {
            "text/plain": [
              "United-States         7171\n",
              "Philippines             61\n",
              "Germany                 44\n",
              "India                   40\n",
              "Canada                  39\n",
              "Mexico                  33\n",
              "England                 30\n",
              "Italy                   25\n",
              "Cuba                    25\n",
              "Japan                   24\n",
              "Taiwan                  20\n",
              "China                   20\n",
              "Iran                    18\n",
              "South                   16\n",
              "Puerto-Rico             12\n",
              "Poland                  12\n",
              "France                  12\n",
              "Jamaica                 10\n",
              "El-Salvador              9\n",
              "Greece                   8\n",
              "Cambodia                 7\n",
              "Hong                     6\n",
              "Yugoslavia               6\n",
              "Ireland                  5\n",
              "Vietnam                  5\n",
              "Portugal                 4\n",
              "Haiti                    4\n",
              "Ecuador                  4\n",
              "Thailand                 3\n",
              "Hungary                  3\n",
              "Guatemala                3\n",
              "Scotland                 3\n",
              "Nicaragua                2\n",
              "Trinadad&Tobago          2\n",
              "Laos                     2\n",
              "Columbia                 2\n",
              "Dominican-Republic       2\n",
              "Peru                     2\n",
              "Honduras                 1\n",
              "Name: native-country, dtype: int64"
            ]
          },
          "metadata": {},
          "execution_count": 54
        }
      ]
    },
    {
      "cell_type": "code",
      "source": [
        "max(highest_earn_country.value_counts())"
      ],
      "metadata": {
        "colab": {
          "base_uri": "https://localhost:8080/"
        },
        "id": "93tZ9W1YHU59",
        "outputId": "b2ff2249-a081-41ef-b4a5-e3811081bc9c"
      },
      "execution_count": 55,
      "outputs": [
        {
          "output_type": "execute_result",
          "data": {
            "text/plain": [
              "7171"
            ]
          },
          "metadata": {},
          "execution_count": 55
        }
      ]
    },
    {
      "cell_type": "code",
      "source": [
        "# highest earning country\n",
        "highest_earn_country['native-country'].value_counts().index.tolist()[0]"
      ],
      "metadata": {
        "colab": {
          "base_uri": "https://localhost:8080/",
          "height": 35
        },
        "id": "YZpf2ttZGrnI",
        "outputId": "d2ea982b-ac8f-40d0-ab2d-78013a9135e2"
      },
      "execution_count": 56,
      "outputs": [
        {
          "output_type": "execute_result",
          "data": {
            "text/plain": [
              "'United-States'"
            ],
            "application/vnd.google.colaboratory.intrinsic+json": {
              "type": "string"
            }
          },
          "metadata": {},
          "execution_count": 56
        }
      ]
    },
    {
      "cell_type": "code",
      "source": [
        "# highest earning country percentage\n",
        "i = sum(highest_earn_country.value_counts()) \n",
        "print(i)"
      ],
      "metadata": {
        "colab": {
          "base_uri": "https://localhost:8080/"
        },
        "id": "BWrC-gmTpnaT",
        "outputId": "ce9d1fe5-ffd7-4c63-fe4c-b42f3c8479ba"
      },
      "execution_count": 57,
      "outputs": [
        {
          "output_type": "stream",
          "name": "stdout",
          "text": [
            "7695\n"
          ]
        }
      ]
    },
    {
      "cell_type": "code",
      "source": [
        "vary_earn_country = no_null[no_null['salary'].isin(['>50K','<=50K']) & no_null['native-country']]\n",
        "print(vary_earn_country)"
      ],
      "metadata": {
        "colab": {
          "base_uri": "https://localhost:8080/"
        },
        "id": "1AbqglyKp7ib",
        "outputId": "7d0c01f8-93d9-452c-b604-f8c8ee365ad5"
      },
      "execution_count": 58,
      "outputs": [
        {
          "output_type": "stream",
          "name": "stdout",
          "text": [
            "      native-country salary\n",
            "0      United-States  <=50K\n",
            "1      United-States  <=50K\n",
            "2      United-States  <=50K\n",
            "3      United-States  <=50K\n",
            "4               Cuba  <=50K\n",
            "...              ...    ...\n",
            "32556  United-States  <=50K\n",
            "32557  United-States   >50K\n",
            "32558  United-States  <=50K\n",
            "32559  United-States  <=50K\n",
            "32560  United-States   >50K\n",
            "\n",
            "[31978 rows x 2 columns]\n"
          ]
        }
      ]
    },
    {
      "cell_type": "code",
      "source": [
        "vary_earn_country.value_counts()['Iran']"
      ],
      "metadata": {
        "colab": {
          "base_uri": "https://localhost:8080/"
        },
        "id": "Kma3KlTOqkOc",
        "outputId": "bfe04660-5e48-4061-8f50-c9cfea876d2a"
      },
      "execution_count": 59,
      "outputs": [
        {
          "output_type": "execute_result",
          "data": {
            "text/plain": [
              "salary\n",
              "<=50K    25\n",
              ">50K     18\n",
              "dtype: int64"
            ]
          },
          "metadata": {},
          "execution_count": 59
        }
      ]
    },
    {
      "cell_type": "markdown",
      "source": [
        "- **Identify the most popular occupation for those who earn >50K in India.**"
      ],
      "metadata": {
        "id": "qtQ6LY5vIboP"
      }
    },
    {
      "cell_type": "code",
      "source": [
        "df5 = pd.read_csv('adult.data.csv', usecols=['native-country','salary','occupation'])\n",
        "print(df5)"
      ],
      "metadata": {
        "colab": {
          "base_uri": "https://localhost:8080/"
        },
        "id": "owtLrQgBIZXo",
        "outputId": "c0d8c698-5f84-4f4a-bdd5-cfa916b61705"
      },
      "execution_count": 60,
      "outputs": [
        {
          "output_type": "stream",
          "name": "stdout",
          "text": [
            "              occupation native-country salary\n",
            "0           Adm-clerical  United-States  <=50K\n",
            "1        Exec-managerial  United-States  <=50K\n",
            "2      Handlers-cleaners  United-States  <=50K\n",
            "3      Handlers-cleaners  United-States  <=50K\n",
            "4         Prof-specialty           Cuba  <=50K\n",
            "...                  ...            ...    ...\n",
            "32556       Tech-support  United-States  <=50K\n",
            "32557  Machine-op-inspct  United-States   >50K\n",
            "32558       Adm-clerical  United-States  <=50K\n",
            "32559       Adm-clerical  United-States  <=50K\n",
            "32560    Exec-managerial  United-States   >50K\n",
            "\n",
            "[32561 rows x 3 columns]\n"
          ]
        }
      ]
    },
    {
      "cell_type": "code",
      "source": [
        "df5['occupation'].value_counts()"
      ],
      "metadata": {
        "colab": {
          "base_uri": "https://localhost:8080/"
        },
        "id": "6KQHXUekI3bK",
        "outputId": "f7646c8b-ee4c-47c1-d5ba-538459ee2702"
      },
      "execution_count": 61,
      "outputs": [
        {
          "output_type": "execute_result",
          "data": {
            "text/plain": [
              "Prof-specialty       4140\n",
              "Craft-repair         4099\n",
              "Exec-managerial      4066\n",
              "Adm-clerical         3770\n",
              "Sales                3650\n",
              "Other-service        3295\n",
              "Machine-op-inspct    2002\n",
              "?                    1843\n",
              "Transport-moving     1597\n",
              "Handlers-cleaners    1370\n",
              "Farming-fishing       994\n",
              "Tech-support          928\n",
              "Protective-serv       649\n",
              "Priv-house-serv       149\n",
              "Armed-Forces            9\n",
              "Name: occupation, dtype: int64"
            ]
          },
          "metadata": {},
          "execution_count": 61
        }
      ]
    },
    {
      "cell_type": "code",
      "source": [
        "most_popular_india = df5[df5['salary'].isin(['>50K']) & df5['native-country'].isin(['India']) & df5['occupation']]\n",
        "print(most_popular_india)"
      ],
      "metadata": {
        "colab": {
          "base_uri": "https://localhost:8080/"
        },
        "id": "GCasYkvgbWDD",
        "outputId": "5f22b788-5f5b-49f8-b259-364a63271920"
      },
      "execution_count": 62,
      "outputs": [
        {
          "output_type": "stream",
          "name": "stdout",
          "text": [
            "             occupation native-country salary\n",
            "11       Prof-specialty          India   >50K\n",
            "968     Exec-managerial          India   >50K\n",
            "1327      Other-service          India   >50K\n",
            "7258     Prof-specialty          India   >50K\n",
            "7285     Prof-specialty          India   >50K\n",
            "8124     Prof-specialty          India   >50K\n",
            "9939     Prof-specialty          India   >50K\n",
            "10590    Prof-specialty          India   >50K\n",
            "10661    Prof-specialty          India   >50K\n",
            "10736    Prof-specialty          India   >50K\n",
            "11260    Prof-specialty          India   >50K\n",
            "11384      Tech-support          India   >50K\n",
            "13422   Exec-managerial          India   >50K\n",
            "13551   Exec-managerial          India   >50K\n",
            "13862   Exec-managerial          India   >50K\n",
            "16017   Exec-managerial          India   >50K\n",
            "16778   Exec-managerial          India   >50K\n",
            "16923     Other-service          India   >50K\n",
            "17259    Prof-specialty          India   >50K\n",
            "17834  Transport-moving          India   >50K\n",
            "20417   Exec-managerial          India   >50K\n",
            "20465    Prof-specialty          India   >50K\n",
            "21128    Prof-specialty          India   >50K\n",
            "23474    Prof-specialty          India   >50K\n",
            "24154             Sales          India   >50K\n",
            "25739    Prof-specialty          India   >50K\n",
            "26305      Tech-support          India   >50K\n",
            "26356   Exec-managerial          India   >50K\n",
            "27670    Prof-specialty          India   >50K\n",
            "28264    Prof-specialty          India   >50K\n",
            "28433    Prof-specialty          India   >50K\n",
            "28452    Prof-specialty          India   >50K\n",
            "28557    Prof-specialty          India   >50K\n",
            "28651    Prof-specialty          India   >50K\n",
            "28798    Prof-specialty          India   >50K\n",
            "30111    Prof-specialty          India   >50K\n",
            "30152    Prof-specialty          India   >50K\n",
            "30833      Adm-clerical          India   >50K\n",
            "31327    Prof-specialty          India   >50K\n",
            "31357    Prof-specialty          India   >50K\n"
          ]
        }
      ]
    },
    {
      "cell_type": "code",
      "source": [
        "most_popular_india['occupation'].value_counts().index.tolist()[0]"
      ],
      "metadata": {
        "colab": {
          "base_uri": "https://localhost:8080/",
          "height": 35
        },
        "id": "pXZJkW7af9_f",
        "outputId": "69d47003-8d65-4ee6-f5b0-0dfbcf18ae6c"
      },
      "execution_count": 63,
      "outputs": [
        {
          "output_type": "execute_result",
          "data": {
            "text/plain": [
              "'Prof-specialty'"
            ],
            "application/vnd.google.colaboratory.intrinsic+json": {
              "type": "string"
            }
          },
          "metadata": {},
          "execution_count": 63
        }
      ]
    }
  ]
}